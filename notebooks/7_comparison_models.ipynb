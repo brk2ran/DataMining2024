{
 "cells": [
  {
   "cell_type": "markdown",
   "metadata": {},
   "source": [
    "# Vergleich der Modelle"
   ]
  },
  {
   "cell_type": "markdown",
   "metadata": {},
   "source": [
    "In der vorliegenden Arbeit wurden vier verschiedene Machine Learning Modelle für die Vorhersage der Verkaufszahlen von verschiedenen Läden der Drogeriekette Rossmann betrachtet, darunter RandomForest, SupportVectorMachine, kNearestNeighbours, sowie XGBoost. Zur Verbesserung der Vergleichbarkeit der Modelle wurden vorab die Kreuzvalidierungsmethode TimeSeriesSplit, die Aufteilung des Datensatzes und die Modellfeatures festgelegt. Die Hyperparameteroptimierung fand dabei individuell statt.\n",
    "\n",
    "Als Vergleichswert dient der RMSPE der vorhergesagten Verkaufszahlen des Testdatensatzes der einzelnen Modelle:\n",
    "\n",
    "\n",
    "RandomForest: XXXXXX\n",
    "\n",
    "SVM: XXXXXX\n",
    "\n",
    "XGBoost: 0.16749093573181503\n",
    "\n",
    "kNN: XXXXXX\n",
    "\n",
    "\n",
    "Mit XXX erreicht XXX die beste Modellleistung der vier Varianten. So hat das Modell durchschnitllich einen Vorhersagefehler von ca. XX% in Bezug auf die tatsächlichen Verkaufszahlen.\n",
    "Hinsichtlich des RMSPEs als Hauptvergleichsfaktors würden wir dementsprechend xxx als Vorhersagemodell empfehlen. Der niedrige Wert lässt sich vermutlich durch XXX erklären (je nach Modell). Es ist jedoch hinzuzufügen, dass die Trainings- und Vorhersagezeiten innerhalb der Modelle stark voneinander abwichen, sodass die Hyperparameteroptimierung in verschiedenen Ausmaßen durchgeführt wurde. Dieser Faktor wäre in einem breiteren Anwendungsfall zu berücksichtigen, könnte jedoch in diesem Kontext an den verschiedenen Leistungen des technischen Equipments liegen."
   ]
  }
 ],
 "metadata": {
  "language_info": {
   "name": "python"
  }
 },
 "nbformat": 4,
 "nbformat_minor": 2
}
