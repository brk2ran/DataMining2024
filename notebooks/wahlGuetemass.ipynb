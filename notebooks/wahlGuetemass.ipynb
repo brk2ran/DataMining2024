{
 "cells": [
  {
   "cell_type": "markdown",
   "metadata": {},
   "source": [
    "## Wahl des Gütemaß"
   ]
  },
  {
   "cell_type": "markdown",
   "metadata": {},
   "source": [
    "Rossmann betreibt über 3.000 Drogeriemärkte in sieben europäischen Ländern und fordert die Vorhersage der täglichen Verkaufszahlen für sechs Wochen im Voraus für 1.115 Filialen in Deutschland. Dabei werden die Verkaufszahlen von vielen Faktoren beeinflusst, darunter Promotionen, Konkurrenz, Feiertage, Saisonalität und Standort. Angesichts dieser Variabilität und der Herausforderung, konsistente Vorhersagen zu treffen, ist die Root Mean Square Percentage Error (RMSPE) ein besonders geeignetes Gütemaß.\n",
    "\n",
    "Die Root Mean Square Percentage Error (RMSPE) wird wie folgt berechnet:\n",
    "\n",
    "$$\n",
    "\\text{RMSPE} = \\sqrt{\\frac{1}{n} \\sum_{i=1}^{n} \\left( \\frac{y_i - \\hat{y}_i}{y_i} \\right)^2}\n",
    "$$\n",
    " \n",
    "wobei:\n",
    "- $y_i$ die tatsächlichen Verkaufszahlen eines einzelnen Geschäfts an einem bestimmten Tag darstellen\n",
    "- $\\hat{y}_i$ die entsprechenden Vorhersagen darstellen\n",
    "- $n$ die Anzahl der Vorhersagen ist\n",
    "- jeder Tag und Store mit 0 Sales wird bei der Bewertung ignoriert \n",
    "\n",
    "RMSPE misst die relative prozentuale Abweichung zwischen den vorhergesagten und den tatsächlichen Verkaufszahlen. Diese prozentuale Fehlerbewertung ist besonders nützlich in einem Szenario wie dem von Rossmann, wo die Verkaufszahlen erheblich zwischen verschiedenen Geschäften und Zeiträumen variieren können und ist daher besser geeignet als absolute Fehlermaße wie der Mean Absolute Error (MAE) oder der Mean Squared Error (MSE). Durch die Normalisierung der Fehler in Bezug auf die tatsächlichen Verkaufszahlen stellt RMSPE sicher, dass die Modellleistung unabhängig von der Skalierung der Daten bewertet wird.  \n",
    "\n",
    "Ein weiterer Vorteil von RMSPE ist, dass es große Fehler stärker bestraft, da quadratische Abweichungen verwendet werden. Für das vorliegende Problem ist das sinnvoll, da große Vorhersagefehler zu erheblichen geschäftlichen Konsequenzen führen können, wie beispielsweise Über- oder Unterbestände, die sich negativ auf Umsatz und Kundenzufriedenheit auswirken könnten.\n",
    "\n",
    "Zuletzt ist ein Vorteil des RMSPE in der Anwendung auf das Rossmann-Problem, dass Tage und Geschäfte mit 0 Verkäufen bei der Berechnung von RMSPE ignoriert werden. Dies verhindert Verzerrungen in der Bewertung, da 0-Verkäufe nicht zu extrem hohen prozentualen Fehlern führen, die den RMSPE-Wert unnötig verstärken würden.\n",
    "\n",
    "Insgesamt lässt sich sagen, dass die Verwendung von RMSPE als Gütemaß für Rossmanns Verkaufsprognosen es ermöglicht, die Vorhersagegenauigkeit relativ zur tatsächlichen Verkaufszahl zu bewerten. Es berücksichtigt die Varianz der Daten, bestraft größere Fehler stärker und ist unabhängig von der Skalierung der Verkaufszahlen. All diese Eigenschaften machen RMSPE zu einem geeigneten Maß für die Bewertung der Verkaufsprognosen über verschiedene Geschäfte und Zeiträume hinweg."
   ]
  },
  {
   "cell_type": "markdown",
   "metadata": {},
   "source": [
    "## Quellen\n",
    "\n",
    "Fomby, T. (2008). Scoring measures for prediction problems. Department of Economics, Southern Methodist University, Dallas, TX.\n",
    "\n",
    "Pecan AI. (n.d.). Model performance metrics for regression models. Pecan Help Center. Abgerufen am: 21. Juni 2024, auf: https://help.pecan.ai/en/articles/6456388-model-performance-metrics-for-regression-models\n",
    "\n",
    "Schneider, P., & Xhafa, F. (2022). Anomaly detection and complex event processing over iot data streams: with application to EHealth and patient data monitoring. Academic Press.\n",
    "\n",
    "Swanson, D. A., Tayman, J., & Bryan, T. M. (2011). MAPE-R: a rescaled measure of accuracy for cross-sectional subnational population forecasts. Journal of Population Research, 28, 225-243."
   ]
  }
 ],
 "metadata": {
  "language_info": {
   "name": "python"
  }
 },
 "nbformat": 4,
 "nbformat_minor": 2
}
