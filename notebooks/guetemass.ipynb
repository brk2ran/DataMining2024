{
 "cells": [
  {
   "cell_type": "markdown",
   "metadata": {},
   "source": [
    "## Wahl des Gütemaß"
   ]
  },
  {
   "cell_type": "markdown",
   "metadata": {},
   "source": [
    "Rossmann betreibt über 3.000 Drogeriemärkte in sieben europäischen Ländern und fordert die Vorhersage der täglichen Verkaufszahlen für sechs Wochen im Voraus für 1.115 Filialen in Deutschland. Dabei werden die Verkaufszahlen von vielen Faktoren beeinflusst, darunter Promotionen, Konkurrenz, Feiertage, Saisonalität und Standort. Angesichts dieser Variabilität und der Herausforderung, konsistente Vorhersagen zu treffen, ist die Root Mean Square Percentage Error (RMSPE) ein besonders geeignetes Gütemaß.\n",
    "\n",
    "RMSPE misst die relative prozentuale Abweichung zwischen den vorhergesagten und den tatsächlichen Verkaufszahlen. Diese prozentuale Fehlerbewertung ist besonders nützlich in einem Szenario wie dem von Rossmann, wo die Verkaufszahlen erheblich zwischen verschiedenen Geschäften und Zeiträumen variieren können und ist daher besser geeignet als absolute Fehlermaße wie der Mean Absolute Error (MAE) oder der Mean Squared Error (MSE). Durch die Normalisierung der Fehler in Bezug auf die tatsächlichen Verkaufszahlen stellt RMSPE sicher, dass die Modellleistung unabhängig von der Skalierung der Daten bewertet wird.  \n",
    "\n",
    "Ein weiterer Vorteil von RMSPE ist, dass es große Fehler stärker bestraft, da quadratische Abweichungen verwendet werden. Für das vorliegende Problem ist das sinnvoll, da große Vorhersagefehler zu erheblichen geschäftlichen Konsequenzen führen können, wie beispielsweise Über- oder Unterbestände, die sich negativ auf Umsatz und Kundenzufriedenheit auswirken könnten.\n",
    "\n",
    "Zuletzt ist ein Vorteil des RMSPE in der Anwendung auf das Rossmann-Problem, dass Tage und Geschäfte mit 0 Verkäufen bei der Berechnung von RMSPE ignoriert werden. Dies verhindert Verzerrungen in der Bewertung, da 0-Verkäufe nicht zu extrem hohen prozentualen Fehlern führen, die den RMSPE-Wert unnötig verstärken würden.\n",
    "\n",
    "Insgesamt lässt sich sagen, dass die Verwendung von RMSPE als Gütemaß für Rossmanns Verkaufsprognosen es ermöglicht, die Vorhersagegenauigkeit relativ zur tatsächlichen Verkaufszahl zu bewerten. Es berücksichtigt die Varianz der Daten, bestraft größere Fehler stärker und ist unabhängig von der Skalierung der Verkaufszahlen. All diese Eigenschaften machen RMSPE zu einem geeigneten Maß für die Bewertung der Verkaufsprognosen über verschiedene Geschäfte und Zeiträume hinweg."
   ]
  }
 ],
 "metadata": {
  "language_info": {
   "name": "python"
  }
 },
 "nbformat": 4,
 "nbformat_minor": 2
}
