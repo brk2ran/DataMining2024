{
 "cells": [
  {
   "cell_type": "markdown",
   "metadata": {},
   "source": [
    "### Datenbereinigung: Bearbeitung von Einträgen ohne Verkäufe/Kunden\n",
    "\n",
    "In der Datenaufbereitung für unser Vorhersagemodell stehen wir vor der Herausforderung, fehlerhafte oder fehlende Werte in der Spalte 'Sales' zu behandeln. Diese Werte können nicht einfach gelöscht werden, da dies die Kontinuität der Zeitreihe unterbrechen würde. Die Integrität der Zeitreihen ist jedoch entscheidend für die Genauigkeit und Zuverlässigkeit des Modells. Um die fehlenden 'Sales'-Werte zu füllen, verwenden wir den Mittelwert der 'Sales'-Werte der vier vorhergehenden Samstage. Diese Methode berücksichtigt wöchentliche Muster und erzeugt realistische Schätzungen für die fehlenden Datenpunkte. Durch die Berechnung des Mittelwerts aus den vorhergehenden gleichen Wochetagen reflektieren die eingefügten Werte die typischen Betriebsbedingungen des jeweiligen Wochentages und verhindern Verzerrungen in den Daten.\n",
    "\n",
    "Der Prozess der Datenbereinigung im Falle der fehlenden Einträge für Verkäufe umfasst daher die folgenden drei Schritte: die Identifizierung der fehlerhaften oder fehlenden 'Sales'-Werte, die Berechnung des Mittelwerts der 'Sales'-Werte der vier vorhergehenden gleichen Wochentagen, das Einfügen dieser berechneten Mittelwerte in die entsprechenden fehlenden Datenfelder.\n",
    "\n",
    "Durch diese sorgfältige Methode zur Datenbereinigung wird gewährleistet, dass die Kontinuität der Zeitreihe erhalten bleibt und die Integrität der Daten gewahrt wird. Dies ist entscheidend, um ein genaues und verlässliches Vorhersagemodell zu entwickeln. Die realistischen Schätzungen der fehlenden Werte tragen dazu bei, dass das Modell auf konsistenten und repräsentativen Daten basiert, was letztlich zu präziseren und verlässlicheren Vorhersagen führt.\n",
    "\n",
    "Die Spalte 'Customers' wird nicht mit neuen Daten befüllt, da diese Spalte nicht als Feature für das Modells verwendet wird.\n",
    "\n",
    "\n",
    "\n",
    "#### Notwendigkeit für die Datenbearbeitung\n",
    "\n",
    "1. **Fehlende Begründung**\n",
    "\n",
    "In den Fällen, in denen ein Geschäft geöffnet war, jedoch keine Kunden verzeichnet wurden und keine Verkäufe stattfanden, liegt kein erkennbarer Grund vor, der diese Situation plausibel erklärt. Solche Einträge können auf Fehler in der Datenerfassung oder untypische Betriebsbedingungen hinweisen, die nicht repräsentativ für den normalen Geschäftsbetrieb sind.\n",
    "\n",
    "2. **Vermeidung von Modellverwirrung**\n",
    "\n",
    "Ein Modell zur Vorhersage zukünftiger Verkäufe basiert auf der Annahme, dass die zugrunde liegenden Daten realistische und sinnvolle Geschäftsszenarien widerspiegeln. Einträge mit geöffneten Geschäften ohne Kunden und Verkäufe könnten das Modell verwirren und die Vorhersagegenauigkeit beeinträchtigen. Diese Einträge würden das Modell möglicherweise dazu bringen, unlogische Muster zu erlernen, was die Qualität der Vorhersagen mindern würde.\n",
    "\n",
    "Aufgrund der oben genannten Punkte wurden diese Einträge als Datenrauschen(Noise)/Fehlerhaft klassifiziert. Datenrauschen sind irrelevante oder irreführende Informationen, die die Leistungsfähigkeit des Modells verringern können.\n"
   ]
  },
  {
   "cell_type": "code",
   "execution_count": 2,
   "metadata": {},
   "outputs": [],
   "source": [
    "import pandas as pd\n",
    "import numpy as np\n",
    "import seaborn as sns\n",
    "import matplotlib.pyplot as plt"
   ]
  },
  {
   "cell_type": "code",
   "execution_count": 3,
   "metadata": {},
   "outputs": [],
   "source": [
    "file_store = \"../data/store.csv\"\n",
    "file_train = \"../data/train.csv\""
   ]
  },
  {
   "cell_type": "code",
   "execution_count": 4,
   "metadata": {},
   "outputs": [],
   "source": [
    "df_store = pd.read_csv(file_store, delimiter=\",\", encoding=\"latin\", header=0, thousands=\",\", decimal='.', low_memory=False)\n",
    "df_train = pd.read_csv(file_train, delimiter=\",\", encoding=\"latin\", header=0, thousands=\",\", decimal='.', low_memory=False)"
   ]
  },
  {
   "cell_type": "code",
   "execution_count": 5,
   "metadata": {},
   "outputs": [],
   "source": [
    "df_merged = pd.merge(df_store, df_train, on='Store')"
   ]
  },
  {
   "cell_type": "markdown",
   "metadata": {},
   "source": [
    "## Löschen der Einträge Store open ohne Verläufe/Kunden"
   ]
  },
  {
   "cell_type": "markdown",
   "metadata": {},
   "source": [
    "Unsere Daten enthalten mehrere Merkmale, darunter Verkäufe (Sales), Kundenanzahl (Customers), Öffnungsstatus der Geschäfte (Open), und staatliche Feiertage (StateHoliday). Um die Datenkonsistenz zu gewährleisten, wird zunächst die 'StateHoliday'-Spalte standardisiert, indem alle Werte in Strings konvertiert werden. Dies erleichtert die weitere Verarbeitung und Analyse.\n",
    "\n",
    "Ein besonderes Augenmerk liegt auf den Einträgen, bei denen Geschäfte zwar geöffnet waren, jedoch keine Verkäufe oder Kunden verzeichnet wurden. Solche Einträge sind verdächtig, da sie auf Fehler in der Datenerfassung oder auf ungewöhnliche Geschäftsvorfälle hindeuten könnten. Diese Einträge könnten das maschinelle Lernmodell verwirren und die Vorhersagegenauigkeit beeinträchtigen, wenn sie im Datensatz verbleiben. Daher werden diese Einträge entfernt.\n",
    "\n",
    "Nach der Bereinigung wird überprüft, ob die entsprechenden Einträge tatsächlich entfernt wurden. Dieser Schritt stellt sicher, dass keine irreführenden oder fehlerhaften Daten im Datensatz verbleiben, die die Modellqualität negativ beeinflussen könnten.\n",
    "\n",
    "Der folgende Code führt die beschriebene Datenbereinigung durch und überprüft die Datenintegrität nach der Bereinigung."
   ]
  },
  {
   "cell_type": "code",
   "execution_count": 6,
   "metadata": {},
   "outputs": [
    {
     "name": "stderr",
     "output_type": "stream",
     "text": [
      "/var/folders/k5/dycty0m90m93hgc19mfyrsrr0000gn/T/ipykernel_6940/349232201.py:18: FutureWarning: Setting an item of incompatible dtype is deprecated and will raise an error in a future version of pandas. Value '5706.75' has dtype incompatible with int64, please explicitly cast to a compatible dtype first.\n",
      "  df.at[index, 'Sales'] = avg_sales\n"
     ]
    },
    {
     "name": "stdout",
     "output_type": "stream",
     "text": [
      "\n",
      "Train Data after replacing zero sales with average sales:\n",
      "        Store StoreType Assortment  CompetitionDistance  \\\n",
      "331720    364         a          c              13620.0   \n",
      "927132   1017         c          a                110.0   \n",
      "\n",
      "        CompetitionOpenSinceMonth  CompetitionOpenSinceYear  Promo2  \\\n",
      "331720                        NaN                       NaN       1   \n",
      "927132                       11.0                    2008.0       0   \n",
      "\n",
      "        Promo2SinceWeek  Promo2SinceYear     PromoInterval  DayOfWeek  \\\n",
      "331720             10.0           2014.0  Mar,Jun,Sept,Dec          3   \n",
      "927132              NaN              NaN               NaN          4   \n",
      "\n",
      "             Date  Sales  Customers  Open  Promo StateHoliday  SchoolHoliday  \\\n",
      "331720 2013-05-08    0.0          0     1      0            0              0   \n",
      "927132 2014-06-05    0.0          0     1      1            0              0   \n",
      "\n",
      "          Weekday  \n",
      "331720  Wednesday  \n",
      "927132   Thursday  \n"
     ]
    }
   ],
   "source": [
    "import pandas as pd\n",
    "import numpy as np\n",
    "\n",
    "# Standardize StateHoliday column\n",
    "df_merged['StateHoliday'] = df_merged['StateHoliday'].astype(str)\n",
    "\n",
    "# Find and replace zero sales with the average of the same weekday for the past 4 weeks\n",
    "def replace_zero_sales(df):\n",
    "    df['Date'] = pd.to_datetime(df['Date'])\n",
    "    df['Weekday'] = df['Date'].dt.day_name()\n",
    "    \n",
    "    for index, row in df[(df['Sales'] == 0) & (df['Open'] == 1)].iterrows():\n",
    "        weekday = row['Weekday']\n",
    "        date = row['Date']\n",
    "        past_dates = df[(df['Weekday'] == weekday) & (df['Date'] < date)].sort_values(by='Date', ascending=False).head(4)\n",
    "        if not past_dates.empty:\n",
    "            avg_sales = past_dates['Sales'].mean()\n",
    "            df.at[index, 'Sales'] = avg_sales\n",
    "    \n",
    "    return df\n",
    "\n",
    "# Remove entries with zero sales and store open, and replace with average sales\n",
    "df_merged = replace_zero_sales(df_merged)\n",
    "\n",
    "# Verify the entries are replaced\n",
    "print(\"\\nTrain Data after replacing zero sales with average sales:\")\n",
    "print(df_merged[(df_merged['Sales'] == 0) & (df_merged['Open'] == 1)])\n"
   ]
  },
  {
   "cell_type": "markdown",
   "metadata": {},
   "source": [
    "Der gegebene Code verarbeitet Verkaufsdaten eines Geschäfts, um sicherzustellen, dass Einträge mit null Verkaufszahlen (`Sales`) und geöffnetem Geschäft (`Open`) gefunden und durch den Durchschnitt der Verkaufszahlen der vorangegangenen vier gleichen Wochentage ersetzt werden.\n",
    "\n",
    "Zunächst wird die `StateHoliday`-Spalte standardisiert, indem alle Werte in dieser Spalte in Strings umgewandelt werden. Dies stellt sicher, dass alle Werte konsistent als Zeichenketten behandelt werden.\n",
    "\n",
    "Anschließend wird die Funktion `replace_zero_sales` definiert und aufgerufen. Diese Funktion durchläuft die Daten, um alle Einträge zu finden, bei denen die Verkaufszahlen null sind und das Geschäft geöffnet war. Zuerst wird die `Date`-Spalte in ein Datetime-Format konvertiert und eine neue Spalte `Weekday` hinzugefügt, die den Namen des Wochentages enthält. Für jeden Eintrag mit null Verkaufszahlen wird der Durchschnitt der Verkaufszahlen der letzten vier gleichen Wochentage berechnet. Diese Berechnung berücksichtigt nur die Einträge vor dem aktuellen Datum des Eintrags und sortiert sie absteigend nach Datum, um die letzten vier Einträge zu erhalten.\n",
    "\n",
    "Nach der Berechnung und dem Einsetzen der durchschnittlichen Verkaufszahlen wird überprüft, ob alle Einträge mit null Verkaufszahlen ersetzt wurden."
   ]
  },
  {
   "cell_type": "code",
   "execution_count": null,
   "metadata": {},
   "outputs": [],
   "source": []
  }
 ],
 "metadata": {
  "kernelspec": {
   "display_name": "Python 3.12.3 64-bit",
   "language": "python",
   "name": "python3"
  },
  "language_info": {
   "codemirror_mode": {
    "name": "ipython",
    "version": 3
   },
   "file_extension": ".py",
   "mimetype": "text/x-python",
   "name": "python",
   "nbconvert_exporter": "python",
   "pygments_lexer": "ipython3",
   "version": "3.11.7"
  },
  "vscode": {
   "interpreter": {
    "hash": "aee8b7b246df8f9039afb4144a1f6fd8d2ca17a180786b69acc140d282b71a49"
   }
  }
 },
 "nbformat": 4,
 "nbformat_minor": 2
}
