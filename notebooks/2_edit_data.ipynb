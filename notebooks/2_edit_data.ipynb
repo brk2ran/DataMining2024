{
 "cells": [
  {
   "cell_type": "markdown",
   "metadata": {},
   "source": [
    "# Datenbereinigung: Bearbeitung von Einträgen ohne Verkäufe"
   ]
  },
  {
   "cell_type": "markdown",
   "metadata": {},
   "source": [
    "In der Datenaufbereitung müssen fehlerhafte oder fehlende Werte in der Spalte `Sales` behandelt werden. Diese Werte können nicht gelöscht werden, da dies die Kontinuität der Zeitreihe unterbrechen würde. Die Integrität der Zeitreihen ist jedoch entscheidend für die Genauigkeit und Zuverlässigkeit des Modells. Um die fehlenden `Sales`-Werte zu füllen, verwenden wir den Mittelwert der `Sales`-Werte der vier vorhergehenden Samstage. Diese Methode berücksichtigt wöchentliche Muster und erzeugt realistische Schätzungen für die fehlenden Datenpunkte. Durch die Berechnung des Mittelwerts aus den vorhergehenden gleichen Wochetagen reflektieren die eingefügten Werte die typischen Betriebsbedingungen des jeweiligen Wochentages und verhindern Verzerrungen in den Daten. Der Prozess der Datenbereinigung im Falle der fehlenden Einträge für Verkäufe umfasst daher die folgenden drei Schritte: die Identifizierung der fehlerhaften oder fehlenden `Sales`-Werte, die Berechnung des Mittelwerts der `Sales`-Werte der vier vorhergehenden gleichen Wochentagen, das Einfügen dieser berechneten Mittelwerte in die entsprechenden fehlenden Datenfelder. Durch diese sorgfältige Methode zur Datenbereinigung wird gewährleistet, dass die Kontinuität der Zeitreihe erhalten bleibt und die Integrität der Daten gewahrt wird. Dies ist entscheidend, um ein genaues und verlässliches Vorhersagemodell zu entwickeln. Die realistischen Schätzungen der fehlenden Werte tragen dazu bei, dass das Modell auf konsistenten und repräsentativen Daten basiert, was letztlich zu präziseren und verlässlicheren Vorhersagen führt. Die Spalte `Customers` wird nicht mit neuen Daten befüllt, da diese Spalte nicht als Feature für das Modells verwendet wird.\n",
    "\n",
    "## Notwendigkeit für die Datenbearbeitung\n",
    "\n",
    "1. **Fehlende Begründung**\n",
    "\n",
    "In den Fällen, in denen ein Geschäft geöffnet war, jedoch keine Kunden verzeichnet wurden und keine Verkäufe stattfanden, liegt kein erkennbarer Grund vor, der diese Situation plausibel erklärt. Solche Einträge können auf Fehler in der Datenerfassung oder untypische Betriebsbedingungen hinweisen, die nicht repräsentativ für den normalen Geschäftsbetrieb sind.\n",
    "\n",
    "2. **Vermeidung von Modellverwirrung**\n",
    "\n",
    "Ein Modell zur Vorhersage zukünftiger Verkäufe basiert auf der Annahme, dass die zugrunde liegenden Daten realistische und sinnvolle Geschäftsszenarien widerspiegeln. Einträge mit geöffneten Geschäften ohne Kunden und Verkäufe könnten das Modell verwirren und die Vorhersagegenauigkeit beeinträchtigen. Diese Einträge würden das Modell möglicherweise dazu bringen, unlogische Muster zu erlernen, was die Qualität der Vorhersagen mindern würde.\n",
    "\n",
    "Aufgrund der oben genannten Punkte wurden diese Einträge als Datenrauschen(Noise)/Fehlerhaft klassifiziert. Datenrauschen sind irrelevante oder irreführende Informationen, die die Leistungsfähigkeit des Modells verringern können.\n"
   ]
  },
  {
   "cell_type": "code",
   "execution_count": 1,
   "metadata": {},
   "outputs": [],
   "source": [
    "import pandas as pd"
   ]
  },
  {
   "cell_type": "code",
   "execution_count": 2,
   "metadata": {},
   "outputs": [],
   "source": [
    "file_store = \"../data/store.csv\"\n",
    "file_train = \"../data/train.csv\"\n",
    "file_test = \"../data/test.csv\""
   ]
  },
  {
   "cell_type": "code",
   "execution_count": 3,
   "metadata": {},
   "outputs": [],
   "source": [
    "df_store = pd.read_csv(file_store, delimiter=\",\", encoding=\"latin\", header=0, thousands=\",\", decimal='.', low_memory=False)\n",
    "df_train = pd.read_csv(file_train, delimiter=\",\", encoding=\"latin\", header=0, thousands=\",\", decimal='.', low_memory=False)\n",
    "df_test = pd.read_csv(file_test, delimiter=\",\", encoding=\"latin\", header=0, thousands=\",\", decimal='.', low_memory=False)"
   ]
  },
  {
   "cell_type": "code",
   "execution_count": 4,
   "metadata": {},
   "outputs": [],
   "source": [
    "df_merged = pd.merge(df_store, df_train, on='Store')"
   ]
  },
  {
   "cell_type": "code",
   "execution_count": 5,
   "metadata": {},
   "outputs": [
    {
     "name": "stderr",
     "output_type": "stream",
     "text": [
      "C:\\Users\\schmu\\AppData\\Local\\Temp\\ipykernel_17412\\516383344.py:15: FutureWarning: Setting an item of incompatible dtype is deprecated and will raise in a future error of pandas. Value '5706.75' has dtype incompatible with int64, please explicitly cast to a compatible dtype first.\n",
      "  df.at[index, 'Sales'] = avg_sales\n"
     ]
    },
    {
     "name": "stdout",
     "output_type": "stream",
     "text": [
      "\n",
      "Train Data after replacing zero sales with average sales:\n",
      "        Store StoreType Assortment  CompetitionDistance  \\\n",
      "331720    364         a          c              13620.0   \n",
      "927132   1017         c          a                110.0   \n",
      "\n",
      "        CompetitionOpenSinceMonth  CompetitionOpenSinceYear  Promo2  \\\n",
      "331720                        NaN                       NaN       1   \n",
      "927132                       11.0                    2008.0       0   \n",
      "\n",
      "        Promo2SinceWeek  Promo2SinceYear     PromoInterval  DayOfWeek  \\\n",
      "331720             10.0           2014.0  Mar,Jun,Sept,Dec          3   \n",
      "927132              NaN              NaN               NaN          4   \n",
      "\n",
      "             Date  Sales  Customers  Open  Promo StateHoliday  SchoolHoliday  \\\n",
      "331720 2013-05-08    0.0          0     1      0            0              0   \n",
      "927132 2014-06-05    0.0          0     1      1            0              0   \n",
      "\n",
      "          Weekday  \n",
      "331720  Wednesday  \n",
      "927132   Thursday  \n"
     ]
    }
   ],
   "source": [
    "# Standardize StateHoliday column\n",
    "df_merged['StateHoliday'] = df_merged['StateHoliday'].astype(str)\n",
    "\n",
    "# Find and replace zero sales with the average of the same weekday for the past 4 weeks\n",
    "def replace_zero_sales(df):\n",
    "    df['Date'] = pd.to_datetime(df['Date'])\n",
    "    df['Weekday'] = df['Date'].dt.day_name()\n",
    "    \n",
    "    for index, row in df[(df['Sales'] == 0) & (df['Open'] == 1)].iterrows():\n",
    "        weekday = row['Weekday']\n",
    "        date = row['Date']\n",
    "        past_dates = df[(df['Weekday'] == weekday) & (df['Date'] < date)].sort_values(by='Date', ascending=False).head(4)\n",
    "        if not past_dates.empty:\n",
    "            avg_sales = past_dates['Sales'].mean()\n",
    "            df.at[index, 'Sales'] = avg_sales\n",
    "    \n",
    "    return df\n",
    "\n",
    "# Remove entries with zero sales and store open, and replace with average sales\n",
    "df_merged = replace_zero_sales(df_merged)\n",
    "\n",
    "# Verify the entries are replaced\n",
    "print(\"\\nTrain Data after replacing zero sales with average sales:\")\n",
    "print(df_merged[(df_merged['Sales'] == 0) & (df_merged['Open'] == 1)])\n"
   ]
  },
  {
   "cell_type": "markdown",
   "metadata": {},
   "source": [
    "Der gegebene Code verarbeitet Verkaufsdaten eines Geschäfts, um sicherzustellen, dass Einträge mit Null Verkaufszahlen (`Sales`) und geöffnetem Geschäft (`Open`) gefunden und durch den Durchschnitt der Verkaufszahlen der vorangegangenen vier gleichen Wochentage ersetzt werden. Zunächst wird die `StateHoliday`-Spalte standardisiert, indem alle Werte in dieser Spalte in Strings umgewandelt werden. Dies stellt sicher, dass alle Werte konsistent als Zeichenketten behandelt werden. Anschließend wird die Funktion `replace_zero_sales` definiert und aufgerufen. Diese Funktion durchläuft die Daten, um alle Einträge zu finden, bei denen die Verkaufszahlen Null sind und das Geschäft geöffnet war. Zuerst wird die `Date`-Spalte in ein Datetime-Format konvertiert und eine neue Spalte `Weekday` hinzugefügt, die den Namen des Wochentages enthält. Für jeden Eintrag mit Null Verkaufszahlen wird der Durchschnitt der Verkaufszahlen der letzten vier gleichen Wochentage berechnet. Diese Berechnung berücksichtigt nur die Einträge vor dem aktuellen Datum des Eintrags und sortiert sie absteigend nach Datum, um die letzten vier Einträge zu erhalten. Nach der Berechnung und dem Einsetzen der durchschnittlichen Verkaufszahlen wird überprüft, ob alle Einträge mit Null Verkaufszahlen ersetzt wurden."
   ]
  },
  {
   "cell_type": "markdown",
   "metadata": {},
   "source": [
    "# Fehlende Werte Open-Spalte Test-Datensatz"
   ]
  },
  {
   "cell_type": "markdown",
   "metadata": {},
   "source": [
    "Der Testdatensatz beinhaltet fehlende Einträge in der Spalte `Open`. Diese Werte werden ersetzt, indem überprüft wird, ob der Wochentag Montag bis Samstag ist und kein staatlicher Feiertag vorliegt. Wenn diese Bedingungen erfüllt sind, wird der Wert in der Spalte `Open` auf 1 gesetzt, das heißt der Store ist an diesem Tag geöffnet. Andernfalls wird der Wert auf 0 gesetzt."
   ]
  },
  {
   "cell_type": "code",
   "execution_count": 6,
   "metadata": {},
   "outputs": [
    {
     "name": "stdout",
     "output_type": "stream",
     "text": [
      "Empty DataFrame\n",
      "Columns: [Id, Store, DayOfWeek, Date, Open, Promo, StateHoliday, SchoolHoliday]\n",
      "Index: []\n"
     ]
    }
   ],
   "source": [
    "# Convert 'Date' column to datetime\n",
    "df_test['Date'] = pd.to_datetime(df_test['Date'])\n",
    "\n",
    "# Create new columns for the day of the week and StateHoliday\n",
    "df_test['DayOfWeek'] = df_test['Date'].dt.dayofweek  # Montag=0, Sonntag=6\n",
    "df_test['StateHoliday'] = df_test['StateHoliday'].astype(str)\n",
    "\n",
    "# Replace missing entries in the 'Open' column\n",
    "df_test['Open'] = df_test.apply(lambda row: 1 if row['DayOfWeek'] < 6 and row['StateHoliday'] == '0' else 0 if pd.isna(row['Open']) else row['Open'], axis=1)\n",
    "\n",
    "# Review of the changes\n",
    "print(df_test[df_test['Open'].isna()])  # Should be empty if all NaN values have been replaced\n"
   ]
  }
 ],
 "metadata": {
  "kernelspec": {
   "display_name": "Python 3.12.3 64-bit",
   "language": "python",
   "name": "python3"
  },
  "language_info": {
   "codemirror_mode": {
    "name": "ipython",
    "version": 3
   },
   "file_extension": ".py",
   "mimetype": "text/x-python",
   "name": "python",
   "nbconvert_exporter": "python",
   "pygments_lexer": "ipython3",
   "version": "3.11.7"
  },
  "vscode": {
   "interpreter": {
    "hash": "aee8b7b246df8f9039afb4144a1f6fd8d2ca17a180786b69acc140d282b71a49"
   }
  }
 },
 "nbformat": 4,
 "nbformat_minor": 2
}
