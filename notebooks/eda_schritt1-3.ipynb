{
 "cells": [
  {
   "cell_type": "code",
   "execution_count": 37,
   "metadata": {},
   "outputs": [],
   "source": [
    "#Daten manipulieren\n",
    "import pandas as pd\n",
    "import numpy as np\n",
    "\n",
    "#Plotting und Visualisierung\n",
    "import matplotlib.pyplot as plt\n",
    "import seaborn as sns\n",
    "from scipy import stats\n",
    "import itertools\n",
    "#test"
   ]
  },
  {
   "cell_type": "code",
   "execution_count": 38,
   "metadata": {},
   "outputs": [],
   "source": [
    "#Daten laden\n",
    "df_store = pd.read_csv(\"C:/Users/iTTaste/Desktop/DataMining24/data/store.csv\", low_memory = False)\n",
    "df_test = pd.read_csv(\"C:/Users/iTTaste/Desktop/DataMining24/data/test.csv\", low_memory = False)\n",
    "df_train = pd.read_csv(\"C:/Users/iTTaste/Desktop/DataMining24/data/train.csv\", low_memory = False)\n"
   ]
  },
  {
   "cell_type": "code",
   "execution_count": 39,
   "metadata": {},
   "outputs": [
    {
     "name": "stdout",
     "output_type": "stream",
     "text": [
      "   Store StoreType Assortment  CompetitionDistance  CompetitionOpenSinceMonth  \\\n",
      "0      1         c          a               1270.0                        9.0   \n",
      "1      2         a          a                570.0                       11.0   \n",
      "2      3         a          a              14130.0                       12.0   \n",
      "3      4         c          c                620.0                        9.0   \n",
      "4      5         a          a              29910.0                        4.0   \n",
      "\n",
      "   CompetitionOpenSinceYear  Promo2  Promo2SinceWeek  Promo2SinceYear  \\\n",
      "0                    2008.0       0              NaN              NaN   \n",
      "1                    2007.0       1             13.0           2010.0   \n",
      "2                    2006.0       1             14.0           2011.0   \n",
      "3                    2009.0       0              NaN              NaN   \n",
      "4                    2015.0       0              NaN              NaN   \n",
      "\n",
      "     PromoInterval  \n",
      "0              NaN  \n",
      "1  Jan,Apr,Jul,Oct  \n",
      "2  Jan,Apr,Jul,Oct  \n",
      "3              NaN  \n",
      "4              NaN  \n",
      "   Store  DayOfWeek        Date  Sales  Customers  Open  Promo StateHoliday  \\\n",
      "0      1          5  2015-07-31   5263        555     1      1            0   \n",
      "1      2          5  2015-07-31   6064        625     1      1            0   \n",
      "2      3          5  2015-07-31   8314        821     1      1            0   \n",
      "3      4          5  2015-07-31  13995       1498     1      1            0   \n",
      "4      5          5  2015-07-31   4822        559     1      1            0   \n",
      "\n",
      "   SchoolHoliday  \n",
      "0              1  \n",
      "1              1  \n",
      "2              1  \n",
      "3              1  \n",
      "4              1  \n",
      "   Id  Store  DayOfWeek        Date  Open  Promo StateHoliday  SchoolHoliday\n",
      "0   1      1          4  2015-09-17   1.0      1            0              0\n",
      "1   2      3          4  2015-09-17   1.0      1            0              0\n",
      "2   3      7          4  2015-09-17   1.0      1            0              0\n",
      "3   4      8          4  2015-09-17   1.0      1            0              0\n",
      "4   5      9          4  2015-09-17   1.0      1            0              0\n"
     ]
    }
   ],
   "source": [
    "#Überblick verschaffen\n",
    "print(df_store.head())\n",
    "print(df_train.head())\n",
    "print(df_test.head())"
   ]
  },
  {
   "cell_type": "code",
   "execution_count": 40,
   "metadata": {},
   "outputs": [
    {
     "name": "stdout",
     "output_type": "stream",
     "text": [
      "<class 'pandas.core.frame.DataFrame'>\n",
      "RangeIndex: 1115 entries, 0 to 1114\n",
      "Data columns (total 10 columns):\n",
      " #   Column                     Non-Null Count  Dtype  \n",
      "---  ------                     --------------  -----  \n",
      " 0   Store                      1115 non-null   int64  \n",
      " 1   StoreType                  1115 non-null   object \n",
      " 2   Assortment                 1115 non-null   object \n",
      " 3   CompetitionDistance        1112 non-null   float64\n",
      " 4   CompetitionOpenSinceMonth  761 non-null    float64\n",
      " 5   CompetitionOpenSinceYear   761 non-null    float64\n",
      " 6   Promo2                     1115 non-null   int64  \n",
      " 7   Promo2SinceWeek            571 non-null    float64\n",
      " 8   Promo2SinceYear            571 non-null    float64\n",
      " 9   PromoInterval              571 non-null    object \n",
      "dtypes: float64(5), int64(2), object(3)\n",
      "memory usage: 87.2+ KB\n",
      "None\n",
      "            Store  CompetitionDistance  CompetitionOpenSinceMonth  \\\n",
      "count  1115.00000          1112.000000                 761.000000   \n",
      "mean    558.00000          5404.901079                   7.224704   \n",
      "std     322.01708          7663.174720                   3.212348   \n",
      "min       1.00000            20.000000                   1.000000   \n",
      "25%     279.50000           717.500000                   4.000000   \n",
      "50%     558.00000          2325.000000                   8.000000   \n",
      "75%     836.50000          6882.500000                  10.000000   \n",
      "max    1115.00000         75860.000000                  12.000000   \n",
      "\n",
      "       CompetitionOpenSinceYear       Promo2  Promo2SinceWeek  Promo2SinceYear  \n",
      "count                761.000000  1115.000000       571.000000       571.000000  \n",
      "mean                2008.668857     0.512108        23.595447      2011.763573  \n",
      "std                    6.195983     0.500078        14.141984         1.674935  \n",
      "min                 1900.000000     0.000000         1.000000      2009.000000  \n",
      "25%                 2006.000000     0.000000        13.000000      2011.000000  \n",
      "50%                 2010.000000     1.000000        22.000000      2012.000000  \n",
      "75%                 2013.000000     1.000000        37.000000      2013.000000  \n",
      "max                 2015.000000     1.000000        50.000000      2015.000000  \n",
      "-------------------------------------------------------------------------------\n",
      "<class 'pandas.core.frame.DataFrame'>\n",
      "RangeIndex: 41088 entries, 0 to 41087\n",
      "Data columns (total 8 columns):\n",
      " #   Column         Non-Null Count  Dtype  \n",
      "---  ------         --------------  -----  \n",
      " 0   Id             41088 non-null  int64  \n",
      " 1   Store          41088 non-null  int64  \n",
      " 2   DayOfWeek      41088 non-null  int64  \n",
      " 3   Date           41088 non-null  object \n",
      " 4   Open           41077 non-null  float64\n",
      " 5   Promo          41088 non-null  int64  \n",
      " 6   StateHoliday   41088 non-null  object \n",
      " 7   SchoolHoliday  41088 non-null  int64  \n",
      "dtypes: float64(1), int64(5), object(2)\n",
      "memory usage: 2.5+ MB\n",
      "None\n",
      "                 Id         Store     DayOfWeek          Open         Promo  \\\n",
      "count  41088.000000  41088.000000  41088.000000  41077.000000  41088.000000   \n",
      "mean   20544.500000    555.899533      3.979167      0.854322      0.395833   \n",
      "std    11861.228267    320.274496      2.015481      0.352787      0.489035   \n",
      "min        1.000000      1.000000      1.000000      0.000000      0.000000   \n",
      "25%    10272.750000    279.750000      2.000000      1.000000      0.000000   \n",
      "50%    20544.500000    553.500000      4.000000      1.000000      0.000000   \n",
      "75%    30816.250000    832.250000      6.000000      1.000000      1.000000   \n",
      "max    41088.000000   1115.000000      7.000000      1.000000      1.000000   \n",
      "\n",
      "       SchoolHoliday  \n",
      "count   41088.000000  \n",
      "mean        0.443487  \n",
      "std         0.496802  \n",
      "min         0.000000  \n",
      "25%         0.000000  \n",
      "50%         0.000000  \n",
      "75%         1.000000  \n",
      "max         1.000000  \n",
      "-------------------------------------------------------------------------------\n",
      "<class 'pandas.core.frame.DataFrame'>\n",
      "RangeIndex: 1017209 entries, 0 to 1017208\n",
      "Data columns (total 9 columns):\n",
      " #   Column         Non-Null Count    Dtype \n",
      "---  ------         --------------    ----- \n",
      " 0   Store          1017209 non-null  int64 \n",
      " 1   DayOfWeek      1017209 non-null  int64 \n",
      " 2   Date           1017209 non-null  object\n",
      " 3   Sales          1017209 non-null  int64 \n",
      " 4   Customers      1017209 non-null  int64 \n",
      " 5   Open           1017209 non-null  int64 \n",
      " 6   Promo          1017209 non-null  int64 \n",
      " 7   StateHoliday   1017209 non-null  object\n",
      " 8   SchoolHoliday  1017209 non-null  int64 \n",
      "dtypes: int64(7), object(2)\n",
      "memory usage: 69.8+ MB\n",
      "None\n",
      "              Store     DayOfWeek         Sales     Customers          Open  \\\n",
      "count  1.017209e+06  1.017209e+06  1.017209e+06  1.017209e+06  1.017209e+06   \n",
      "mean   5.584297e+02  3.998341e+00  5.773819e+03  6.331459e+02  8.301067e-01   \n",
      "std    3.219087e+02  1.997391e+00  3.849926e+03  4.644117e+02  3.755392e-01   \n",
      "min    1.000000e+00  1.000000e+00  0.000000e+00  0.000000e+00  0.000000e+00   \n",
      "25%    2.800000e+02  2.000000e+00  3.727000e+03  4.050000e+02  1.000000e+00   \n",
      "50%    5.580000e+02  4.000000e+00  5.744000e+03  6.090000e+02  1.000000e+00   \n",
      "75%    8.380000e+02  6.000000e+00  7.856000e+03  8.370000e+02  1.000000e+00   \n",
      "max    1.115000e+03  7.000000e+00  4.155100e+04  7.388000e+03  1.000000e+00   \n",
      "\n",
      "              Promo  SchoolHoliday  \n",
      "count  1.017209e+06   1.017209e+06  \n",
      "mean   3.815145e-01   1.786467e-01  \n",
      "std    4.857586e-01   3.830564e-01  \n",
      "min    0.000000e+00   0.000000e+00  \n",
      "25%    0.000000e+00   0.000000e+00  \n",
      "50%    0.000000e+00   0.000000e+00  \n",
      "75%    1.000000e+00   0.000000e+00  \n",
      "max    1.000000e+00   1.000000e+00  \n",
      "-------------------------------------------------------------------------------\n"
     ]
    }
   ],
   "source": [
    "# Datentypen und Wertebereiche\n",
    "print(df_store.info())\n",
    "print(df_store.describe())\n",
    "print(\"-------------------------------------------------------------------------------\")\n",
    "# Datentypen und Wertebereiche\n",
    "print(df_test.info())\n",
    "print(df_test.describe())\n",
    "print(\"-------------------------------------------------------------------------------\")\n",
    "# Datentypen und Wertebereiche\n",
    "print(df_train.info())\n",
    "print(df_train.describe())\n",
    "print(\"-------------------------------------------------------------------------------\")"
   ]
  },
  {
   "cell_type": "code",
   "execution_count": 41,
   "metadata": {},
   "outputs": [
    {
     "name": "stdout",
     "output_type": "stream",
     "text": [
      "Store                          0\n",
      "StoreType                      0\n",
      "Assortment                     0\n",
      "CompetitionDistance            3\n",
      "CompetitionOpenSinceMonth    354\n",
      "CompetitionOpenSinceYear     354\n",
      "Promo2                         0\n",
      "Promo2SinceWeek              544\n",
      "Promo2SinceYear              544\n",
      "PromoInterval                544\n",
      "dtype: int64\n"
     ]
    }
   ],
   "source": [
    "# Fehlende Daten df_store\n",
    "missing_values = df_store.isnull().sum()\n",
    "print(missing_values)\n"
   ]
  },
  {
   "cell_type": "code",
   "execution_count": 42,
   "metadata": {},
   "outputs": [
    {
     "data": {
      "image/png": "[encoded data removed]",
      "text/plain": [
       "<Figure size 2000x1500 with 9 Axes>"
      ]
     },
     "metadata": {},
     "output_type": "display_data"
    }
   ],
   "source": [
    "# Verteilung der Daten\n",
    "df_store.hist(bins=30, figsize=(20, 15))\n",
    "plt.show()"
   ]
  },
  {
   "cell_type": "markdown",
   "metadata": {},
   "source": [
    "Mit Store Datensatz anfangen, fehlende Felder/Werte zu befüllen  bzw. löschen"
   ]
  },
  {
   "cell_type": "code",
   "execution_count": 43,
   "metadata": {},
   "outputs": [
    {
     "data": {
      "text/plain": [
       "Store                        100.000000\n",
       "StoreType                    100.000000\n",
       "Assortment                   100.000000\n",
       "CompetitionDistance           99.730942\n",
       "CompetitionOpenSinceMonth     68.251121\n",
       "CompetitionOpenSinceYear      68.251121\n",
       "Promo2                       100.000000\n",
       "Promo2SinceWeek               51.210762\n",
       "Promo2SinceYear               51.210762\n",
       "PromoInterval                 51.210762\n",
       "dtype: float64"
      ]
     },
     "execution_count": 43,
     "metadata": {},
     "output_type": "execute_result"
    }
   ],
   "source": [
    "#Prüfen ob fehlende Werte existieren (Füllrate)\n",
    "df_store.count(0)/df_store.shape[0] * 100"
   ]
  },
  {
   "cell_type": "code",
   "execution_count": 44,
   "metadata": {},
   "outputs": [
    {
     "data": {
      "text/html": [
       "<div>\n",
       "<style scoped>\n",
       "    .dataframe tbody tr th:only-of-type {\n",
       "        vertical-align: middle;\n",
       "    }\n",
       "\n",
       "    .dataframe tbody tr th {\n",
       "        vertical-align: top;\n",
       "    }\n",
       "\n",
       "    .dataframe thead th {\n",
       "        text-align: right;\n",
       "    }\n",
       "</style>\n",
       "<table border=\"1\" class=\"dataframe\">\n",
       "  <thead>\n",
       "    <tr style=\"text-align: right;\">\n",
       "      <th></th>\n",
       "      <th>Store</th>\n",
       "      <th>StoreType</th>\n",
       "      <th>Assortment</th>\n",
       "      <th>CompetitionDistance</th>\n",
       "      <th>CompetitionOpenSinceMonth</th>\n",
       "      <th>CompetitionOpenSinceYear</th>\n",
       "      <th>Promo2</th>\n",
       "      <th>Promo2SinceWeek</th>\n",
       "      <th>Promo2SinceYear</th>\n",
       "      <th>PromoInterval</th>\n",
       "    </tr>\n",
       "  </thead>\n",
       "  <tbody>\n",
       "    <tr>\n",
       "      <th>290</th>\n",
       "      <td>291</td>\n",
       "      <td>d</td>\n",
       "      <td>a</td>\n",
       "      <td>NaN</td>\n",
       "      <td>NaN</td>\n",
       "      <td>NaN</td>\n",
       "      <td>0</td>\n",
       "      <td>NaN</td>\n",
       "      <td>NaN</td>\n",
       "      <td>NaN</td>\n",
       "    </tr>\n",
       "    <tr>\n",
       "      <th>621</th>\n",
       "      <td>622</td>\n",
       "      <td>a</td>\n",
       "      <td>c</td>\n",
       "      <td>NaN</td>\n",
       "      <td>NaN</td>\n",
       "      <td>NaN</td>\n",
       "      <td>0</td>\n",
       "      <td>NaN</td>\n",
       "      <td>NaN</td>\n",
       "      <td>NaN</td>\n",
       "    </tr>\n",
       "    <tr>\n",
       "      <th>878</th>\n",
       "      <td>879</td>\n",
       "      <td>d</td>\n",
       "      <td>a</td>\n",
       "      <td>NaN</td>\n",
       "      <td>NaN</td>\n",
       "      <td>NaN</td>\n",
       "      <td>1</td>\n",
       "      <td>5.0</td>\n",
       "      <td>2013.0</td>\n",
       "      <td>Feb,May,Aug,Nov</td>\n",
       "    </tr>\n",
       "  </tbody>\n",
       "</table>\n",
       "</div>"
      ],
      "text/plain": [
       "     Store StoreType Assortment  CompetitionDistance  \\\n",
       "290    291         d          a                  NaN   \n",
       "621    622         a          c                  NaN   \n",
       "878    879         d          a                  NaN   \n",
       "\n",
       "     CompetitionOpenSinceMonth  CompetitionOpenSinceYear  Promo2  \\\n",
       "290                        NaN                       NaN       0   \n",
       "621                        NaN                       NaN       0   \n",
       "878                        NaN                       NaN       1   \n",
       "\n",
       "     Promo2SinceWeek  Promo2SinceYear    PromoInterval  \n",
       "290              NaN              NaN              NaN  \n",
       "621              NaN              NaN              NaN  \n",
       "878              5.0           2013.0  Feb,May,Aug,Nov  "
      ]
     },
     "execution_count": 44,
     "metadata": {},
     "output_type": "execute_result"
    }
   ],
   "source": [
    "#mit CompetitionDistance anfangen und die fehlenden Werte prüfen\n",
    "df_store[pd.isnull(df_store.CompetitionDistance)] # nur 3 Zeilen sind Null"
   ]
  },
  {
   "cell_type": "code",
   "execution_count": 45,
   "metadata": {},
   "outputs": [],
   "source": [
    "# Entfernen von Einträgen mit fehlendem CompetitionDistance\n",
    "df_store_check_distribution = df_store.dropna(subset=['CompetitionDistance'])"
   ]
  },
  {
   "cell_type": "markdown",
   "metadata": {},
   "source": [
    "Fehlende Werte müssen entweder mit Median oder Mean befüllt werden.\n",
    "Median, Mean und Std herausfinden und visualisieren!"
   ]
  },
  {
   "cell_type": "code",
   "execution_count": 46,
   "metadata": {},
   "outputs": [
    {
     "data": {
      "text/plain": [
       "Text(0.5, 1.0, 'Histogram für naheliegensten Wettbewerber')"
      ]
     },
     "execution_count": 46,
     "metadata": {},
     "output_type": "execute_result"
    },
    {
     "data": {
      "image/png": "[encoded data removed]",
      "text/plain": [
       "<Figure size 1700x350 with 2 Axes>"
      ]
     },
     "metadata": {},
     "output_type": "display_data"
    }
   ],
   "source": [
    "# Statistische Werte berechnen\n",
    "stats = {\n",
    "    \"Mean\": np.nanmean(df_store.CompetitionDistance),\n",
    "    \"Median\": np.nanmedian(df_store.CompetitionDistance),\n",
    "    \"Standard Dev\": np.nanstd(df_store.CompetitionDistance)\n",
    "}\n",
    "\n",
    "# Subplots erstellen\n",
    "fig, axes = plt.subplots(1, 2, figsize=(17, 3.5))\n",
    "\n",
    "# Boxplot\n",
    "sns.boxplot(x=df_store_check_distribution.CompetitionDistance, showmeans=True, ax=axes[0])\n",
    "axes[0].set_xlim(0, df_store_check_distribution.CompetitionDistance.max() + 1000)\n",
    "axes[0].set_title('Boxplot für naheliegensten Wettbewerber')\n",
    "\n",
    "# Histogramm\n",
    "sns.histplot(df_store_check_distribution.CompetitionDistance, bins=30, ax=axes[1])\n",
    "axes[1].set_xlim(df_store_check_distribution.CompetitionDistance.min(), df_store_check_distribution.CompetitionDistance.max())\n",
    "axes[1].set_title(\"Histogram für naheliegensten Wettbewerber\")"
   ]
  },
  {
   "cell_type": "markdown",
   "metadata": {},
   "source": [
    "Man erkennt eine starke rechtslastige Verteilung der Variable und außerdem einen erheblichen Unterschied zwischen Mittelwert und Median ('Mean': 5404.901079136691, 'Median': 2325.0,'Standard Dev': 7659.7282732764415). Weiterhin ist die Streuung der Daten auf die Std.Abweichung zurückzuführen, die höher als Median und Mittelwert ist.\n",
    "Es ist daher besser den Median als Ersatzwert einzusetzen, da der Mittelwert von den Außreisern verzerrt wird."
   ]
  },
  {
   "cell_type": "code",
   "execution_count": 47,
   "metadata": {},
   "outputs": [
    {
     "name": "stderr",
     "output_type": "stream",
     "text": [
      "C:\\Users\\iTTaste\\AppData\\Local\\Temp\\ipykernel_27204\\2369084995.py:2: FutureWarning: A value is trying to be set on a copy of a DataFrame or Series through chained assignment using an inplace method.\n",
      "The behavior will change in pandas 3.0. This inplace method will never work because the intermediate object on which we are setting values always behaves as a copy.\n",
      "\n",
      "For example, when doing 'df[col].method(value, inplace=True)', try using 'df.method({col: value}, inplace=True)' or df[col] = df[col].method(value) instead, to perform the operation inplace on the original object.\n",
      "\n",
      "\n",
      "  df_store['CompetitionDistance'].fillna(df_store['CompetitionDistance'].median(), inplace = True)\n"
     ]
    }
   ],
   "source": [
    "#Ersetze fehlende Werte mit Medianwert\n",
    "df_store['CompetitionDistance'].fillna(df_store['CompetitionDistance'].median(), inplace = True)"
   ]
  },
  {
   "cell_type": "code",
   "execution_count": 48,
   "metadata": {},
   "outputs": [
    {
     "data": {
      "text/plain": [
       "Store                        100.000000\n",
       "StoreType                    100.000000\n",
       "Assortment                   100.000000\n",
       "CompetitionDistance          100.000000\n",
       "CompetitionOpenSinceMonth     68.251121\n",
       "CompetitionOpenSinceYear      68.251121\n",
       "Promo2                       100.000000\n",
       "Promo2SinceWeek               51.210762\n",
       "Promo2SinceYear               51.210762\n",
       "PromoInterval                 51.210762\n",
       "dtype: float64"
      ]
     },
     "execution_count": 48,
     "metadata": {},
     "output_type": "execute_result"
    }
   ],
   "source": [
    "#Prüfen ob CompetitionDistance bei 100 liegt (Füllrate)\n",
    "df_store.count(0)/df_store.shape[0] * 100"
   ]
  },
  {
   "cell_type": "markdown",
   "metadata": {},
   "source": [
    "CompetitionOpenSinceMonth und CompetitionOpenSinceYear auf fehlende Werte untersuchen"
   ]
  },
  {
   "cell_type": "code",
   "execution_count": 49,
   "metadata": {},
   "outputs": [
    {
     "name": "stderr",
     "output_type": "stream",
     "text": [
      "C:\\Users\\iTTaste\\AppData\\Local\\Temp\\ipykernel_27204\\1330855194.py:2: FutureWarning: A value is trying to be set on a copy of a DataFrame or Series through chained assignment using an inplace method.\n",
      "The behavior will change in pandas 3.0. This inplace method will never work because the intermediate object on which we are setting values always behaves as a copy.\n",
      "\n",
      "For example, when doing 'df[col].method(value, inplace=True)', try using 'df.method({col: value}, inplace=True)' or df[col] = df[col].method(value) instead, to perform the operation inplace on the original object.\n",
      "\n",
      "\n",
      "  df_store.CompetitionOpenSinceMonth.fillna(0, inplace = True)\n",
      "C:\\Users\\iTTaste\\AppData\\Local\\Temp\\ipykernel_27204\\1330855194.py:3: FutureWarning: A value is trying to be set on a copy of a DataFrame or Series through chained assignment using an inplace method.\n",
      "The behavior will change in pandas 3.0. This inplace method will never work because the intermediate object on which we are setting values always behaves as a copy.\n",
      "\n",
      "For example, when doing 'df[col].method(value, inplace=True)', try using 'df.method({col: value}, inplace=True)' or df[col] = df[col].method(value) instead, to perform the operation inplace on the original object.\n",
      "\n",
      "\n",
      "  df_store.CompetitionOpenSinceYear.fillna(0,inplace=True)\n"
     ]
    }
   ],
   "source": [
    "#da keine näheren infos zu den fehlenden Werten oder ein guter weg diese zu befüllen, gilt es diese mit 0 zu befüllen\n",
    "df_store.CompetitionOpenSinceMonth.fillna(0, inplace = True)\n",
    "df_store.CompetitionOpenSinceYear.fillna(0,inplace=True)  "
   ]
  },
  {
   "cell_type": "markdown",
   "metadata": {},
   "source": [
    "Die 3 Promo-Variablen (Promo2SinceWeek, Promo2SinceYear, PromoInterval) sind noch nicht komplett befüllt."
   ]
  },
  {
   "cell_type": "code",
   "execution_count": 50,
   "metadata": {},
   "outputs": [
    {
     "data": {
      "text/html": [
       "<div>\n",
       "<style scoped>\n",
       "    .dataframe tbody tr th:only-of-type {\n",
       "        vertical-align: middle;\n",
       "    }\n",
       "\n",
       "    .dataframe tbody tr th {\n",
       "        vertical-align: top;\n",
       "    }\n",
       "\n",
       "    .dataframe thead th {\n",
       "        text-align: right;\n",
       "    }\n",
       "</style>\n",
       "<table border=\"1\" class=\"dataframe\">\n",
       "  <thead>\n",
       "    <tr style=\"text-align: right;\">\n",
       "      <th></th>\n",
       "      <th>Store</th>\n",
       "      <th>StoreType</th>\n",
       "      <th>Assortment</th>\n",
       "      <th>CompetitionDistance</th>\n",
       "      <th>CompetitionOpenSinceMonth</th>\n",
       "      <th>CompetitionOpenSinceYear</th>\n",
       "      <th>Promo2</th>\n",
       "      <th>Promo2SinceWeek</th>\n",
       "      <th>Promo2SinceYear</th>\n",
       "      <th>PromoInterval</th>\n",
       "    </tr>\n",
       "  </thead>\n",
       "  <tbody>\n",
       "    <tr>\n",
       "      <th>0</th>\n",
       "      <td>1</td>\n",
       "      <td>c</td>\n",
       "      <td>a</td>\n",
       "      <td>1270.0</td>\n",
       "      <td>9.0</td>\n",
       "      <td>2008.0</td>\n",
       "      <td>0</td>\n",
       "      <td>NaN</td>\n",
       "      <td>NaN</td>\n",
       "      <td>NaN</td>\n",
       "    </tr>\n",
       "    <tr>\n",
       "      <th>3</th>\n",
       "      <td>4</td>\n",
       "      <td>c</td>\n",
       "      <td>c</td>\n",
       "      <td>620.0</td>\n",
       "      <td>9.0</td>\n",
       "      <td>2009.0</td>\n",
       "      <td>0</td>\n",
       "      <td>NaN</td>\n",
       "      <td>NaN</td>\n",
       "      <td>NaN</td>\n",
       "    </tr>\n",
       "    <tr>\n",
       "      <th>4</th>\n",
       "      <td>5</td>\n",
       "      <td>a</td>\n",
       "      <td>a</td>\n",
       "      <td>29910.0</td>\n",
       "      <td>4.0</td>\n",
       "      <td>2015.0</td>\n",
       "      <td>0</td>\n",
       "      <td>NaN</td>\n",
       "      <td>NaN</td>\n",
       "      <td>NaN</td>\n",
       "    </tr>\n",
       "    <tr>\n",
       "      <th>5</th>\n",
       "      <td>6</td>\n",
       "      <td>a</td>\n",
       "      <td>a</td>\n",
       "      <td>310.0</td>\n",
       "      <td>12.0</td>\n",
       "      <td>2013.0</td>\n",
       "      <td>0</td>\n",
       "      <td>NaN</td>\n",
       "      <td>NaN</td>\n",
       "      <td>NaN</td>\n",
       "    </tr>\n",
       "    <tr>\n",
       "      <th>6</th>\n",
       "      <td>7</td>\n",
       "      <td>a</td>\n",
       "      <td>c</td>\n",
       "      <td>24000.0</td>\n",
       "      <td>4.0</td>\n",
       "      <td>2013.0</td>\n",
       "      <td>0</td>\n",
       "      <td>NaN</td>\n",
       "      <td>NaN</td>\n",
       "      <td>NaN</td>\n",
       "    </tr>\n",
       "    <tr>\n",
       "      <th>...</th>\n",
       "      <td>...</td>\n",
       "      <td>...</td>\n",
       "      <td>...</td>\n",
       "      <td>...</td>\n",
       "      <td>...</td>\n",
       "      <td>...</td>\n",
       "      <td>...</td>\n",
       "      <td>...</td>\n",
       "      <td>...</td>\n",
       "      <td>...</td>\n",
       "    </tr>\n",
       "    <tr>\n",
       "      <th>1107</th>\n",
       "      <td>1108</td>\n",
       "      <td>a</td>\n",
       "      <td>a</td>\n",
       "      <td>540.0</td>\n",
       "      <td>4.0</td>\n",
       "      <td>2004.0</td>\n",
       "      <td>0</td>\n",
       "      <td>NaN</td>\n",
       "      <td>NaN</td>\n",
       "      <td>NaN</td>\n",
       "    </tr>\n",
       "    <tr>\n",
       "      <th>1109</th>\n",
       "      <td>1110</td>\n",
       "      <td>c</td>\n",
       "      <td>c</td>\n",
       "      <td>900.0</td>\n",
       "      <td>9.0</td>\n",
       "      <td>2010.0</td>\n",
       "      <td>0</td>\n",
       "      <td>NaN</td>\n",
       "      <td>NaN</td>\n",
       "      <td>NaN</td>\n",
       "    </tr>\n",
       "    <tr>\n",
       "      <th>1111</th>\n",
       "      <td>1112</td>\n",
       "      <td>c</td>\n",
       "      <td>c</td>\n",
       "      <td>1880.0</td>\n",
       "      <td>4.0</td>\n",
       "      <td>2006.0</td>\n",
       "      <td>0</td>\n",
       "      <td>NaN</td>\n",
       "      <td>NaN</td>\n",
       "      <td>NaN</td>\n",
       "    </tr>\n",
       "    <tr>\n",
       "      <th>1112</th>\n",
       "      <td>1113</td>\n",
       "      <td>a</td>\n",
       "      <td>c</td>\n",
       "      <td>9260.0</td>\n",
       "      <td>0.0</td>\n",
       "      <td>0.0</td>\n",
       "      <td>0</td>\n",
       "      <td>NaN</td>\n",
       "      <td>NaN</td>\n",
       "      <td>NaN</td>\n",
       "    </tr>\n",
       "    <tr>\n",
       "      <th>1113</th>\n",
       "      <td>1114</td>\n",
       "      <td>a</td>\n",
       "      <td>c</td>\n",
       "      <td>870.0</td>\n",
       "      <td>0.0</td>\n",
       "      <td>0.0</td>\n",
       "      <td>0</td>\n",
       "      <td>NaN</td>\n",
       "      <td>NaN</td>\n",
       "      <td>NaN</td>\n",
       "    </tr>\n",
       "  </tbody>\n",
       "</table>\n",
       "<p>544 rows × 10 columns</p>\n",
       "</div>"
      ],
      "text/plain": [
       "      Store StoreType Assortment  CompetitionDistance  \\\n",
       "0         1         c          a               1270.0   \n",
       "3         4         c          c                620.0   \n",
       "4         5         a          a              29910.0   \n",
       "5         6         a          a                310.0   \n",
       "6         7         a          c              24000.0   \n",
       "...     ...       ...        ...                  ...   \n",
       "1107   1108         a          a                540.0   \n",
       "1109   1110         c          c                900.0   \n",
       "1111   1112         c          c               1880.0   \n",
       "1112   1113         a          c               9260.0   \n",
       "1113   1114         a          c                870.0   \n",
       "\n",
       "      CompetitionOpenSinceMonth  CompetitionOpenSinceYear  Promo2  \\\n",
       "0                           9.0                    2008.0       0   \n",
       "3                           9.0                    2009.0       0   \n",
       "4                           4.0                    2015.0       0   \n",
       "5                          12.0                    2013.0       0   \n",
       "6                           4.0                    2013.0       0   \n",
       "...                         ...                       ...     ...   \n",
       "1107                        4.0                    2004.0       0   \n",
       "1109                        9.0                    2010.0       0   \n",
       "1111                        4.0                    2006.0       0   \n",
       "1112                        0.0                       0.0       0   \n",
       "1113                        0.0                       0.0       0   \n",
       "\n",
       "      Promo2SinceWeek  Promo2SinceYear PromoInterval  \n",
       "0                 NaN              NaN           NaN  \n",
       "3                 NaN              NaN           NaN  \n",
       "4                 NaN              NaN           NaN  \n",
       "5                 NaN              NaN           NaN  \n",
       "6                 NaN              NaN           NaN  \n",
       "...               ...              ...           ...  \n",
       "1107              NaN              NaN           NaN  \n",
       "1109              NaN              NaN           NaN  \n",
       "1111              NaN              NaN           NaN  \n",
       "1112              NaN              NaN           NaN  \n",
       "1113              NaN              NaN           NaN  \n",
       "\n",
       "[544 rows x 10 columns]"
      ]
     },
     "execution_count": 50,
     "metadata": {},
     "output_type": "execute_result"
    }
   ],
   "source": [
    "#3 Promo Variablen noch prüfen\n",
    "df_store[pd.isnull(df_store.Promo2SinceWeek)]\n",
    "df_store[pd.isnull(df_store.Promo2SinceWeek) & (df_store.Promo2==0)]"
   ]
  },
  {
   "cell_type": "markdown",
   "metadata": {},
   "source": [
    "Alle fehlenden Werte kommen durch Felder bei denen Promo2 = 0 ist, d.h. dort sind keine Promo Aktivitäten am laufen --> keine Promotion = Felder müssen 0 sein, da mit Promo2 verbunden"
   ]
  },
  {
   "cell_type": "code",
   "execution_count": 51,
   "metadata": {},
   "outputs": [
    {
     "name": "stderr",
     "output_type": "stream",
     "text": [
      "C:\\Users\\iTTaste\\AppData\\Local\\Temp\\ipykernel_27204\\892025935.py:2: FutureWarning: A value is trying to be set on a copy of a DataFrame or Series through chained assignment using an inplace method.\n",
      "The behavior will change in pandas 3.0. This inplace method will never work because the intermediate object on which we are setting values always behaves as a copy.\n",
      "\n",
      "For example, when doing 'df[col].method(value, inplace=True)', try using 'df.method({col: value}, inplace=True)' or df[col] = df[col].method(value) instead, to perform the operation inplace on the original object.\n",
      "\n",
      "\n",
      "  df_store.Promo2SinceWeek.fillna(0,inplace=True)\n",
      "C:\\Users\\iTTaste\\AppData\\Local\\Temp\\ipykernel_27204\\892025935.py:3: FutureWarning: A value is trying to be set on a copy of a DataFrame or Series through chained assignment using an inplace method.\n",
      "The behavior will change in pandas 3.0. This inplace method will never work because the intermediate object on which we are setting values always behaves as a copy.\n",
      "\n",
      "For example, when doing 'df[col].method(value, inplace=True)', try using 'df.method({col: value}, inplace=True)' or df[col] = df[col].method(value) instead, to perform the operation inplace on the original object.\n",
      "\n",
      "\n",
      "  df_store.Promo2SinceYear.fillna(0,inplace=True)\n",
      "C:\\Users\\iTTaste\\AppData\\Local\\Temp\\ipykernel_27204\\892025935.py:4: FutureWarning: A value is trying to be set on a copy of a DataFrame or Series through chained assignment using an inplace method.\n",
      "The behavior will change in pandas 3.0. This inplace method will never work because the intermediate object on which we are setting values always behaves as a copy.\n",
      "\n",
      "For example, when doing 'df[col].method(value, inplace=True)', try using 'df.method({col: value}, inplace=True)' or df[col] = df[col].method(value) instead, to perform the operation inplace on the original object.\n",
      "\n",
      "\n",
      "  df_store.PromoInterval.fillna(0,inplace=True)\n"
     ]
    }
   ],
   "source": [
    "#Ersetzen der fehlenden Werte mit 0\n",
    "df_store.Promo2SinceWeek.fillna(0,inplace=True)\n",
    "df_store.Promo2SinceYear.fillna(0,inplace=True)\n",
    "df_store.PromoInterval.fillna(0,inplace=True)\n"
   ]
  },
  {
   "cell_type": "code",
   "execution_count": 52,
   "metadata": {},
   "outputs": [
    {
     "data": {
      "text/plain": [
       "Store                        100.0\n",
       "StoreType                    100.0\n",
       "Assortment                   100.0\n",
       "CompetitionDistance          100.0\n",
       "CompetitionOpenSinceMonth    100.0\n",
       "CompetitionOpenSinceYear     100.0\n",
       "Promo2                       100.0\n",
       "Promo2SinceWeek              100.0\n",
       "Promo2SinceYear              100.0\n",
       "PromoInterval                100.0\n",
       "dtype: float64"
      ]
     },
     "execution_count": 52,
     "metadata": {},
     "output_type": "execute_result"
    }
   ],
   "source": [
    "#Prüfung der Füllrate\n",
    "df_store.count(0)/df_store.shape[0] * 100"
   ]
  },
  {
   "cell_type": "markdown",
   "metadata": {},
   "source": [
    "Keine leeren Fehlder vorhanden, da Füllrate in allen Spalten bei 100% liegt. Weiter mit df_train!\n",
    "Gleicher Prozess zur Annualisierung der leeren Felder."
   ]
  },
  {
   "cell_type": "code",
   "execution_count": 53,
   "metadata": {},
   "outputs": [
    {
     "data": {
      "text/plain": [
       "Store            100.0\n",
       "DayOfWeek        100.0\n",
       "Date             100.0\n",
       "Sales            100.0\n",
       "Customers        100.0\n",
       "Open             100.0\n",
       "Promo            100.0\n",
       "StateHoliday     100.0\n",
       "SchoolHoliday    100.0\n",
       "dtype: float64"
      ]
     },
     "execution_count": 53,
     "metadata": {},
     "output_type": "execute_result"
    }
   ],
   "source": [
    "#Füllrate von df_train prüfen\n",
    "df_train.count(0)/df_train.shape[0] * 100"
   ]
  },
  {
   "cell_type": "markdown",
   "metadata": {},
   "source": [
    "Füllrate von 100%, keine weiteres Cleaning notwendig. Weiter mit Schließungstage der Geschäfte, da dort keine Verkäufe ergo Gewinne erzielt werden können (Kunden sowie Verkäufe = 0)"
   ]
  },
  {
   "cell_type": "code",
   "execution_count": 54,
   "metadata": {},
   "outputs": [
    {
     "name": "stderr",
     "output_type": "stream",
     "text": [
      "C:\\Users\\iTTaste\\AppData\\Local\\Temp\\ipykernel_27204\\109749536.py:2: FutureWarning: Series.__getitem__ treating keys as positions is deprecated. In a future version, integer keys will always be treated as labels (consistent with DataFrame behavior). To access a value by position, use `ser.iloc[pos]`\n",
      "  closed_stores_total = df_train[df_train.Open == 0].count()[0]\n",
      "C:\\Users\\iTTaste\\AppData\\Local\\Temp\\ipykernel_27204\\109749536.py:3: FutureWarning: Series.__getitem__ treating keys as positions is deprecated. In a future version, integer keys will always be treated as labels (consistent with DataFrame behavior). To access a value by position, use `ser.iloc[pos]`\n",
      "  closed_due_to_school_holiday = df_train[(df_train.Open == 0) & (df_train.SchoolHoliday == 1) & (df_train.StateHoliday == '0')].count()[0]\n",
      "C:\\Users\\iTTaste\\AppData\\Local\\Temp\\ipykernel_27204\\109749536.py:4: FutureWarning: Series.__getitem__ treating keys as positions is deprecated. In a future version, integer keys will always be treated as labels (consistent with DataFrame behavior). To access a value by position, use `ser.iloc[pos]`\n",
      "  closed_due_to_state_holiday = df_train[(df_train.Open == 0) & (df_train.StateHoliday.isin(['a', 'b', 'c']))].count()[0]\n"
     ]
    },
    {
     "name": "stdout",
     "output_type": "stream",
     "text": [
      "\n",
      "- In diesen zwei Jahren, waren 172817 verschiedene Filialen an bestimmten Tagen geschlossen.\n",
      "\n",
      "- Von den Schließungen erfolgten 3067 aufgrund von Schulferien.\n",
      "\n",
      "- Und 30140 Mal wegen bestimmten Feiertagen oder an Ostern/Weihnachten\n",
      "\n",
      "- Interessanterweise schlossen die Geschäfte, 139610 Mal an Tagen ohne ersichtlichen Grund, an denen kein Feiertag angekündigt war. Tatsächlich erfolgten diese Schließungen ohne jegliches Muster und in diesem Fall von 2013 bis 2015 in fast jedem beliebigen Monat und an einem beliebigen Tag.\n",
      "\n"
     ]
    },
    {
     "name": "stderr",
     "output_type": "stream",
     "text": [
      "C:\\Users\\iTTaste\\AppData\\Local\\Temp\\ipykernel_27204\\109749536.py:5: FutureWarning: Series.__getitem__ treating keys as positions is deprecated. In a future version, integer keys will always be treated as labels (consistent with DataFrame behavior). To access a value by position, use `ser.iloc[pos]`\n",
      "  closed_without_reason = df_train[(df_train.Open == 0) & (df_train.StateHoliday == \"0\") & (df_train.SchoolHoliday == 0)].count()[0]\n"
     ]
    }
   ],
   "source": [
    "# Berechnungen durchführen\n",
    "closed_stores_total = df_train[df_train.Open == 0].count()[0]\n",
    "closed_due_to_school_holiday = df_train[(df_train.Open == 0) & (df_train.SchoolHoliday == 1) & (df_train.StateHoliday == '0')].count()[0]\n",
    "closed_due_to_state_holiday = df_train[(df_train.Open == 0) & (df_train.StateHoliday.isin(['a', 'b', 'c']))].count()[0]\n",
    "closed_without_reason = df_train[(df_train.Open == 0) & (df_train.StateHoliday == \"0\") & (df_train.SchoolHoliday == 0)].count()[0]\n",
    "# Ergebnisse drucken\n",
    "print()\n",
    "print(f\"- In diesen zwei Jahren, waren {closed_stores_total} verschiedene Filialen an bestimmten Tagen geschlossen.\")\n",
    "print()\n",
    "print(f\"- Von den Schließungen erfolgten {closed_due_to_school_holiday} aufgrund von Schulferien.\")\n",
    "print()\n",
    "print(f\"- Und {closed_due_to_state_holiday} Mal wegen bestimmten Feiertagen oder an Ostern/Weihnachten\")\n",
    "print()\n",
    "print(f\"- Interessanterweise schlossen die Geschäfte, {closed_without_reason} Mal an Tagen ohne ersichtlichen Grund, an denen kein Feiertag angekündigt war. Tatsächlich erfolgten diese Schließungen ohne jegliches Muster und in diesem Fall von 2013 bis 2015 in fast jedem beliebigen Monat und an einem beliebigen Tag.\")\n",
    "print()"
   ]
  },
  {
   "cell_type": "code",
   "execution_count": 55,
   "metadata": {},
   "outputs": [
    {
     "name": "stdout",
     "output_type": "stream",
     "text": [
      "Unser neuer df_train hat jetzt  844392 Reihen \n"
     ]
    }
   ],
   "source": [
    "#Geschlossene Filialen loswerden, da geschlossen = 0 € Gewinn und daher nicht zu berücksichtigen.\n",
    "df_train=df_train.drop(df_train[(df_train.Open == 0) & (df_train.Sales == 0)].index)\n",
    "\n",
    "df_train = df_train.reset_index(drop=True) #sichergehen dass die Indeces zurück auf [0,1,2,3 etc.] gehen.\n",
    "\n",
    "print (\"Unser neuer df_train hat jetzt  {} Reihen \".format(df_train.shape[0]))"
   ]
  },
  {
   "cell_type": "code",
   "execution_count": 56,
   "metadata": {},
   "outputs": [],
   "source": [
    "#Gibt es Ausreißer bei der Verteilung der Kunden und Verkaufszahlen in df_train?\n",
    "df_train.Sales.describe() #ein Minimum von 0 wird hier angezeigt, das bedeutet, dass Filialen trotz Öffnung kein Gewinn erzielt haben\n",
    "\n",
    "#Filtern nach Filialen die \"open\" sind aber keine \"sales\" erzielt haben (open = 1 und sales = 0)\n",
    "df_train=df_train.drop(df_train[(df_train.Open == 1) & (df_train.Sales == 0)].index)\n",
    "df_train = df_train.reset_index(drop=True)"
   ]
  },
  {
   "cell_type": "code",
   "execution_count": 57,
   "metadata": {},
   "outputs": [
    {
     "name": "stdout",
     "output_type": "stream",
     "text": [
      "{'Mean': 6955.959133664481, 'Median': 6369.0}\n"
     ]
    },
    {
     "data": {
      "image/png": "[encoded data removed]",
      "text/plain": [
       "<Figure size 1700x350 with 2 Axes>"
      ]
     },
     "metadata": {},
     "output_type": "display_data"
    }
   ],
   "source": [
    "# Berechnung von Mittelwert und Median\n",
    "stats = {\"Mean\": df_train.Sales.mean(), \"Median\": df_train.Sales.median()}\n",
    "\n",
    "# Erstellen der Subplots\n",
    "fig, axes = plt.subplots(1, 2, figsize=(17, 3.5))\n",
    "\n",
    "# Boxplot für die Verkaufswerte\n",
    "sns.boxplot(x=df_train.Sales, showmeans=True, ax=axes[0])\n",
    "axes[0].set_title('Boxplot für Verkäufe')\n",
    "axes[0].set_xlim(0, df_train.Sales.max() + 1000)\n",
    "\n",
    "# Histogramm der Verkaufswerte\n",
    "sns.histplot(df_train.Sales, bins=20, ax=axes[1])\n",
    "axes[1].set_title(\"Histogram für Verkäufe\")\n",
    "axes[1].set_xlim(df_train.Sales.min(), df_train.Sales.max())\n",
    "\n",
    "# Statistische Werte ausgeben\n",
    "print(stats)\n",
    "\n",
    "# Anzeigen der Plots\n",
    "plt.show()"
   ]
  },
  {
   "cell_type": "code",
   "execution_count": 58,
   "metadata": {},
   "outputs": [
    {
     "data": {
      "text/plain": [
       "count    844338.000000\n",
       "mean       6955.959134\n",
       "std        3103.815515\n",
       "min          46.000000\n",
       "25%        4859.000000\n",
       "50%        6369.000000\n",
       "75%        8360.000000\n",
       "max       41551.000000\n",
       "Name: Sales, dtype: float64"
      ]
     },
     "execution_count": 58,
     "metadata": {},
     "output_type": "execute_result"
    }
   ],
   "source": [
    "df_train.Sales.describe()"
   ]
  },
  {
   "cell_type": "code",
   "execution_count": 59,
   "metadata": {},
   "outputs": [
    {
     "name": "stdout",
     "output_type": "stream",
     "text": [
      "3.21% der Zeit hat Rossman tatsächlich große Verkaufstage (die als Ausreißer gelten).\n",
      "0.00% der Zeit, in der Rossman überhaupt keine Verkäufe tätigt.\n",
      "-----------------------------------------------------------------------------------------------------\n"
     ]
    },
    {
     "data": {
      "text/html": [
       "<div>\n",
       "<style scoped>\n",
       "    .dataframe tbody tr th:only-of-type {\n",
       "        vertical-align: middle;\n",
       "    }\n",
       "\n",
       "    .dataframe tbody tr th {\n",
       "        vertical-align: top;\n",
       "    }\n",
       "\n",
       "    .dataframe thead th {\n",
       "        text-align: right;\n",
       "    }\n",
       "</style>\n",
       "<table border=\"1\" class=\"dataframe\">\n",
       "  <thead>\n",
       "    <tr style=\"text-align: right;\">\n",
       "      <th></th>\n",
       "      <th>Store</th>\n",
       "      <th>DayOfWeek</th>\n",
       "      <th>Date</th>\n",
       "      <th>Sales</th>\n",
       "      <th>Customers</th>\n",
       "      <th>Open</th>\n",
       "      <th>Promo</th>\n",
       "      <th>StateHoliday</th>\n",
       "      <th>SchoolHoliday</th>\n",
       "    </tr>\n",
       "  </thead>\n",
       "  <tbody>\n",
       "    <tr>\n",
       "      <th>825160</th>\n",
       "      <td>817</td>\n",
       "      <td>2</td>\n",
       "      <td>2013-01-22</td>\n",
       "      <td>27190</td>\n",
       "      <td>7388</td>\n",
       "      <td>1</td>\n",
       "      <td>1</td>\n",
       "      <td>0</td>\n",
       "      <td>0</td>\n",
       "    </tr>\n",
       "  </tbody>\n",
       "</table>\n",
       "</div>"
      ],
      "text/plain": [
       "        Store  DayOfWeek        Date  Sales  Customers  Open  Promo  \\\n",
       "825160    817          2  2013-01-22  27190       7388     1      1   \n",
       "\n",
       "       StateHoliday  SchoolHoliday  \n",
       "825160            0              0  "
      ]
     },
     "execution_count": 59,
     "metadata": {},
     "output_type": "execute_result"
    }
   ],
   "source": [
    "#Prüfen der gefundenen Ausreißern, ob es sich tatsächlich um sehr hohe Gewinne/keine Gewinne handelt oder um falsche Einträge\n",
    "total_days = df_train.shape[0]\n",
    "high_sales_days = (df_train.Sales > 14000).sum()\n",
    "no_sales_days = (df_train.Sales == 0).sum()\n",
    "\n",
    "print(f\"{high_sales_days / total_days * 100:.2f}% der Zeit hat Rossman tatsächlich große Verkaufstage (die als Ausreißer gelten).\")\n",
    "print(f\"{no_sales_days / total_days * 100:.2f}% der Zeit, in der Rossman überhaupt keine Verkäufe tätigt.\")\n",
    "print(\"-----------------------------------------------------------------------------------------------------\")\n",
    "#Doppelte Prüfung des Ausreißers \n",
    "df_train[df_train.Customers>7000]"
   ]
  },
  {
   "cell_type": "markdown",
   "metadata": {},
   "source": [
    "Korrelation von \"Customers\" und \"Sales\" prüfen"
   ]
  },
  {
   "cell_type": "code",
   "execution_count": 60,
   "metadata": {},
   "outputs": [
    {
     "name": "stdout",
     "output_type": "stream",
     "text": [
      "Correlation (pandas): 0.82\n"
     ]
    }
   ],
   "source": [
    "# Berechnung der Korrelation mit pandas\n",
    "correlation = df_train['Customers'].corr(df_train['Sales'])\n",
    "\n",
    "# Ausgabe der Korrelation\n",
    "print(f\"Correlation (pandas): {correlation:.2f}\")\n"
   ]
  },
  {
   "cell_type": "markdown",
   "metadata": {},
   "source": [
    "- Es wurden ähnliche Muster in den Spalten \"Customers\" und \"Sales\" erkannt. Der berechnete Korrelationskoeffizient von 0.82 zeigt eine starke POSITIVE Korrelation zwischen Umsatz und Kunden gibt. \"Je mehr Kunden in einem Geschäft, umso höher ist der Umsatz des Tages.\n",
    "\n",
    "- Es gibt Tage an denen sehr viele Kunden im Geschäft waren, dies ist auf große Promoaktionen zurückzuführen. Diese Werte wirken sich auf den Mittelwert aus und verzerren diesen so, dass sich Mittelwert und Median um 86 unterscheiden.\n",
    "\n",
    "- Beide Verteilungen weisen eine Rechtsschiefe vor, da die Anzahl an Ausreißern zwar gering ist, jedoch die einzelnen Ausreißer für sich eine hohe Repräsentation aufweist. Dies verschiebt die Verteilung nach links, erkennbar in den Histogrammen. Diese Verschiebung tritt nur dann auf, wenn der Mittelwert höher als der Median ist."
   ]
  }
 ],
 "metadata": {
  "kernelspec": {
   "display_name": ".venv",
   "language": "python",
   "name": "python3"
  },
  "language_info": {
   "codemirror_mode": {
    "name": "ipython",
    "version": 3
   },
   "file_extension": ".py",
   "mimetype": "text/x-python",
   "name": "python",
   "nbconvert_exporter": "python",
   "pygments_lexer": "ipython3",
   "version": "3.12.4"
  }
 },
 "nbformat": 4,
 "nbformat_minor": 2
}
