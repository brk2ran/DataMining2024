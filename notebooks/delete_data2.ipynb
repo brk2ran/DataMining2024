{
 "cells": [
  {
   "cell_type": "markdown",
   "metadata": {},
   "source": [
    "### Datenbereinigung: Entfernung von Einträgen ohne Kunden/Verkäufe\n",
    "\n",
    "Im Rahmen der Datenaufbereitung für das Training eines Modells zur Vorhersage zukünftiger Verkäufe wurde eine spezifische Datenbereinigung durchgeführt. Dabei wurden alle Dateneinträge, bei denen Geschäfte geöffnet waren, jedoch keine Kundenbesuche oder Verkäufe registriert wurden, aus dem Datensatz entfernt. \n",
    "\n",
    "#### Begründung für die Entfernung\n",
    "\n",
    "Die Entscheidung zur Entfernung dieser Einträge basiert auf mehreren Überlegungen:\n",
    "\n",
    "1. **Fehlende Begründung**: In den Fällen, in denen ein Geschäft geöffnet war, jedoch keine Kunden verzeichnet wurden und keine Verkäufe stattfanden, liegt kein erkennbarer Grund vor, der diese Situation plausibel erklärt. Solche Einträge können auf Fehler in der Datenerfassung oder untypische Betriebsbedingungen hinweisen, die nicht repräsentativ für den normalen Geschäftsbetrieb sind.\n",
    "\n",
    "2. **Vermeidung von Modellverwirrung**: Ein Modell zur Vorhersage zukünftiger Verkäufe basiert auf der Annahme, dass die zugrunde liegenden Daten realistische und sinnvolle Geschäftsszenarien widerspiegeln. Einträge mit geöffneten Geschäften ohne Kunden und Verkäufe könnten das Modell verwirren und die Vorhersagegenauigkeit beeinträchtigen. Diese Einträge würden das Modell möglicherweise dazu bringen, unlogische Muster zu erlernen, was die Qualität der Vorhersagen mindern würde.\n",
    "\n",
    "Aufgrund der oben genannten Punkte wurden diese Einträge als Datenrauschen(Noise)/Fehlerhaft klassifiziert. Datenrauschen sind irrelevante oder irreführende Informationen, die die Leistungsfähigkeit des Modells verringern können.\n",
    "\n",
    "Zusammenfassend wurde durch die Entfernung der Dateneinträge mit geöffneten Geschäften ohne Kundenbesuche und Verkäufe die Datenqualität verbessert und die Grundlage für ein leistungsfähigeres und verlässlicheres Vorhersagemodell geschaffen."
   ]
  },
  {
   "cell_type": "code",
   "execution_count": 1,
   "metadata": {},
   "outputs": [],
   "source": [
    "import pandas as pd\n",
    "import numpy as np\n",
    "import seaborn as sns\n",
    "import matplotlib.pyplot as plt"
   ]
  },
  {
   "cell_type": "code",
   "execution_count": 4,
   "metadata": {},
   "outputs": [],
   "source": [
    "file_store = \"../data/store.csv\"\n",
    "file_train = \"../data/train.csv\""
   ]
  },
  {
   "cell_type": "code",
   "execution_count": 5,
   "metadata": {},
   "outputs": [],
   "source": [
    "df_store = pd.read_csv(file_store, delimiter=\",\", encoding=\"latin\", header=0, thousands=\",\", decimal='.', low_memory=False)\n",
    "df_train = pd.read_csv(file_train, delimiter=\",\", encoding=\"latin\", header=0, thousands=\",\", decimal='.', low_memory=False)"
   ]
  },
  {
   "cell_type": "code",
   "execution_count": 6,
   "metadata": {},
   "outputs": [],
   "source": [
    "df_merged = pd.merge(df_store, df_train, on='Store')"
   ]
  },
  {
   "cell_type": "markdown",
   "metadata": {},
   "source": [
    "## Löschen der Einträge Store open ohne Verläufe/Kunden"
   ]
  },
  {
   "cell_type": "markdown",
   "metadata": {},
   "source": [
    "Unsere Daten enthalten mehrere Merkmale, darunter Verkäufe (Sales), Kundenanzahl (Customers), Öffnungsstatus der Geschäfte (Open), und staatliche Feiertage (StateHoliday). Um die Datenkonsistenz zu gewährleisten, wird zunächst die 'StateHoliday'-Spalte standardisiert, indem alle Werte in Strings konvertiert werden. Dies erleichtert die weitere Verarbeitung und Analyse.\n",
    "\n",
    "Ein besonderes Augenmerk liegt auf den Einträgen, bei denen Geschäfte zwar geöffnet waren, jedoch keine Verkäufe oder Kunden verzeichnet wurden. Solche Einträge sind verdächtig, da sie auf Fehler in der Datenerfassung oder auf ungewöhnliche Geschäftsvorfälle hindeuten könnten. Diese Einträge könnten das maschinelle Lernmodell verwirren und die Vorhersagegenauigkeit beeinträchtigen, wenn sie im Datensatz verbleiben. Daher werden diese Einträge entfernt.\n",
    "\n",
    "Nach der Bereinigung wird überprüft, ob die entsprechenden Einträge tatsächlich entfernt wurden. Dieser Schritt stellt sicher, dass keine irreführenden oder fehlerhaften Daten im Datensatz verbleiben, die die Modellqualität negativ beeinflussen könnten.\n",
    "\n",
    "Der folgende Code führt die beschriebene Datenbereinigung durch und überprüft die Datenintegrität nach der Bereinigung."
   ]
  },
  {
   "cell_type": "code",
   "execution_count": 7,
   "metadata": {},
   "outputs": [
    {
     "name": "stdout",
     "output_type": "stream",
     "text": [
      "\n",
      "Train Data after removing entries with zero sales and store open:\n",
      "Empty DataFrame\n",
      "Columns: [Store, StoreType, Assortment, CompetitionDistance, CompetitionOpenSinceMonth, CompetitionOpenSinceYear, Promo2, Promo2SinceWeek, Promo2SinceYear, PromoInterval, DayOfWeek, Date, Sales, Customers, Open, Promo, StateHoliday, SchoolHoliday]\n",
      "Index: []\n",
      "\n",
      "Train Data after removing entries with zero customers and store open:\n",
      "Empty DataFrame\n",
      "Columns: [Store, StoreType, Assortment, CompetitionDistance, CompetitionOpenSinceMonth, CompetitionOpenSinceYear, Promo2, Promo2SinceWeek, Promo2SinceYear, PromoInterval, DayOfWeek, Date, Sales, Customers, Open, Promo, StateHoliday, SchoolHoliday]\n",
      "Index: []\n"
     ]
    }
   ],
   "source": [
    "# Standardize StateHoliday column\n",
    "df_merged['StateHoliday'] = df_merged['StateHoliday'].astype(str)\n",
    "\n",
    "# Remove entries with zero sales and store open\n",
    "df_merged = df_merged[~((df_merged['Sales'] == 0) & (df_merged['Open'] == 1))]\n",
    "\n",
    "# Remove entries with zero customers and store open\n",
    "df_merged = df_merged[~((df_merged['Customers'] == 0) & (df_merged['Open'] == 1))]\n",
    "\n",
    "# Verify the entries are removed\n",
    "print(\"\\nTrain Data after removing entries with zero sales and store open:\")\n",
    "print(df_merged[(df_merged['Sales'] == 0) & (df_merged['Open'] == 1)])\n",
    "\n",
    "print(\"\\nTrain Data after removing entries with zero customers and store open:\")\n",
    "print(df_merged[(df_merged['Customers'] == 0) & (df_merged['Open'] == 1)])"
   ]
  }
 ],
 "metadata": {
  "kernelspec": {
   "display_name": "Python 3",
   "language": "python",
   "name": "python3"
  },
  "language_info": {
   "codemirror_mode": {
    "name": "ipython",
    "version": 3
   },
   "file_extension": ".py",
   "mimetype": "text/x-python",
   "name": "python",
   "nbconvert_exporter": "python",
   "pygments_lexer": "ipython3",
   "version": "3.11.7"
  }
 },
 "nbformat": 4,
 "nbformat_minor": 2
}
