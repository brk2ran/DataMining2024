{
 "cells": [
  {
   "cell_type": "markdown",
   "metadata": {},
   "source": [
    "# Bearbeitung der Daten\n",
    "\n",
    "Beschreiben warum machen wir das, wie gehen wir vor"
   ]
  },
  {
   "cell_type": "code",
   "execution_count": 1,
   "metadata": {},
   "outputs": [],
   "source": [
    "import pandas as pd\n",
    "import numpy as np\n",
    "import seaborn as sns\n",
    "import matplotlib.pyplot as plt"
   ]
  },
  {
   "cell_type": "code",
   "execution_count": 4,
   "metadata": {},
   "outputs": [],
   "source": [
    "file_store = \"../data/store.csv\"\n",
    "file_train = \"../data/train.csv\""
   ]
  },
  {
   "cell_type": "code",
   "execution_count": 5,
   "metadata": {},
   "outputs": [],
   "source": [
    "df_store = pd.read_csv(file_store, delimiter=\",\", encoding=\"latin\", header=0, thousands=\",\", decimal='.', low_memory=False)\n",
    "df_train = pd.read_csv(file_train, delimiter=\",\", encoding=\"latin\", header=0, thousands=\",\", decimal='.', low_memory=False)"
   ]
  },
  {
   "cell_type": "code",
   "execution_count": 6,
   "metadata": {},
   "outputs": [],
   "source": [
    "df_merged = pd.merge(df_store, df_train, on='Store')"
   ]
  },
  {
   "cell_type": "markdown",
   "metadata": {},
   "source": [
    "## Löschen der Einträge Store open ohne Verläufe/Kunden"
   ]
  },
  {
   "cell_type": "markdown",
   "metadata": {},
   "source": [
    "Was machen wir hier - Auswertung - Beschreiben"
   ]
  },
  {
   "cell_type": "code",
   "execution_count": 7,
   "metadata": {},
   "outputs": [
    {
     "name": "stdout",
     "output_type": "stream",
     "text": [
      "\n",
      "Train Data after removing entries with zero sales and store open:\n",
      "Empty DataFrame\n",
      "Columns: [Store, StoreType, Assortment, CompetitionDistance, CompetitionOpenSinceMonth, CompetitionOpenSinceYear, Promo2, Promo2SinceWeek, Promo2SinceYear, PromoInterval, DayOfWeek, Date, Sales, Customers, Open, Promo, StateHoliday, SchoolHoliday]\n",
      "Index: []\n",
      "\n",
      "Train Data after removing entries with zero customers and store open:\n",
      "Empty DataFrame\n",
      "Columns: [Store, StoreType, Assortment, CompetitionDistance, CompetitionOpenSinceMonth, CompetitionOpenSinceYear, Promo2, Promo2SinceWeek, Promo2SinceYear, PromoInterval, DayOfWeek, Date, Sales, Customers, Open, Promo, StateHoliday, SchoolHoliday]\n",
      "Index: []\n"
     ]
    }
   ],
   "source": [
    "# Standardize StateHoliday column\n",
    "df_merged['StateHoliday'] = df_merged['StateHoliday'].astype(str)\n",
    "\n",
    "# Remove entries with zero sales and store open\n",
    "df_merged = df_merged[~((df_merged['Sales'] == 0) & (df_merged['Open'] == 1))]\n",
    "\n",
    "# Remove entries with zero customers and store open\n",
    "df_merged = df_merged[~((df_merged['Customers'] == 0) & (df_merged['Open'] == 1))]\n",
    "\n",
    "# Verify the entries are removed\n",
    "print(\"\\nTrain Data after removing entries with zero sales and store open:\")\n",
    "print(df_merged[(df_merged['Sales'] == 0) & (df_merged['Open'] == 1)])\n",
    "\n",
    "print(\"\\nTrain Data after removing entries with zero customers and store open:\")\n",
    "print(df_merged[(df_merged['Customers'] == 0) & (df_merged['Open'] == 1)])"
   ]
  }
 ],
 "metadata": {
  "kernelspec": {
   "display_name": "Python 3",
   "language": "python",
   "name": "python3"
  },
  "language_info": {
   "codemirror_mode": {
    "name": "ipython",
    "version": 3
   },
   "file_extension": ".py",
   "mimetype": "text/x-python",
   "name": "python",
   "nbconvert_exporter": "python",
   "pygments_lexer": "ipython3",
   "version": "3.11.7"
  }
 },
 "nbformat": 4,
 "nbformat_minor": 2
}
