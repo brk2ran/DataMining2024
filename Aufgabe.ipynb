{
 "cells": [
  {
   "cell_type": "markdown",
   "metadata": {},
   "source": [
    "## Aufgabe\n",
    "\n",
    "Sie haben zwei Möglichkeiten für die Projektaufgabe, die Sie in Gruppen von drei bis vier Studierenden bearbeiten sollen:\n",
    "Rossmann Store Sales bei Kaggle\n",
    "Data Mining mit einem Datensatz Ihrer Wahl \n",
    "Falls Sie sich für Möglichkeit 2 entscheiden, sprechen Sie dies unbedingt mit uns ab, um sicher zu stellen, dass die Daten und die Aufgabe geeignet sind. \n",
    "\n",
    "Falls Sie sich für 1 entscheiden, sollen Sie der angegebenen Beschreibung folgend die Verkaufszahlen in über 1000 Filialen von Rossmann vorhersagen. \n",
    "\n",
    "Für beide Aufgaben gelten grundsätzlich folgende Anforderungen, die allerdings nach Absprache mit uns auf Ihre Problemstellungen angepasst werden können. \n",
    "\n",
    "### Anforderungen\n",
    "\n",
    "Anhand des Projektes sollen Sie zeigen, dass Sie Data-Mining-Aufgaben lösen können. Je nach Daten und Problemstellung soll es entweder um Regression, Klassifikation oder Clustering gehen (pro Projekt nur eines der drei). \n",
    "\n",
    "Im Einzelnen soll das Projekt die folgenden Schritte abdecken:  \n",
    "\n",
    "1. Deskriptive Analyse der Daten: Was beschreiben die Daten, was sind die Datentypen und Wertebereiche, fehlen Daten, gibt es falsche Werte, gibt es Korrelationen zwischen Merkmalen (Features, Spalten)? Benutzen Sie Visualisierungen, wenn es sinnvoll erscheint. Was können wir aus dieser deskriptiven Analyse über das Problem lernen?\n",
    "2. Definieren Sie geeignete Merkmale (Features) für die Klassifikation/Regression/Clustering. Versuchen Sie dabei, aus den bestehenden Merkmale neue abzuleiten und überlegen Sie sich zusätzliche z.B. mit externen Informationen. \n",
    "3. Wie sollte man die Güte der Modelle messen? Insbesondere für Projektmöglichkeit 1 wird in der Beschreibung ein spezielles Maß für die Vorhersagegenauigkeit vorgeschlagen. \n",
    "4. Jede*r von Ihnen soll ein Verfahren maschinellen Lernens anwenden. In Einergruppen müssen mindestens zwei Verfahren angewendet werden.\n",
    "Im Fall von Regression/Klassifikation: Benutzen Sie Kreuzvalidierung, um\n",
    "die Hyperparameter zu optimieren\n",
    "die Qualität der Modelle zu evaluieren (wählen Sie sinnvolle Maße für die Qualität)  \n",
    "5. Im Fall von Clustering: Optimieren Sie die Hyperparameter und evaluieren Sie die Qualität der Clusteringmodelle\n",
    "Vergleichen Sie die Ergebnisse der verschiedenen Verfahren\n",
    "6. Bitte benutzen Sie zur Bearbeitung Formate wie Jupyter Notebooks (oder Rmarkdown/Quarto), in denen Sie textuelle Beschreibungen, Code und Visualisierungen mischen können und geben dies als ein Dokument ab. Sie können die Dokumentation auf Deutsch oder Englisch schreiben, aber bitte entscheiden Sie sich für eine der beiden Sprachen. \n",
    "\n",
    "Bitte referenzieren Sie alle Quellen, die Sie benutzen. Die Nutzung von KI ist für die Projektarbeit erlaubt, aber dokumentieren Sie alle Schritte (z.B. Prompts), die Sie durchgeführt haben. Wir selbst haben bei eigenen Versuchen sehr gemischte Erfahrungen mit der Qualität vorgeschlagener Lösungen gemacht.   \n",
    "\n",
    "Schauen Sie sich als Hilfsmittel bitte auch Aurélien Gérons Machine Learning Project Checklist an: https://github.com/ageron/handson-ml/blob/master/ml-project-checklist.md\n",
    "\n",
    "Es gibt eine Zwischenabgabe, in der Sie die Schritte 1, 2 und 3 durchführen und präsentieren sollen. Für die finale Abgabe dürfen Sie Erkenntnisse Ihrer Kommiliton_innen aus der Zwischenabgabe benutzen (bitte referenzieren). Für die zwei Teile der Arbeit selbst dürfen Sie aber nicht mit den anderen Gruppen zusammenarbeiten. \n",
    "\n",
    "Die finale Arbeit können Sie wahlweise im ersten oder zweiten Prüfungszeitraum abgeben und präsentieren. \n",
    "\n",
    "### Termine:\n",
    "\n",
    "Zwischenabgabe: 24.6.2024 mit Präsentation am 25.6.2024\n",
    "\n",
    "Finale Abgabe im 1. Prüfungszeitraum: 29.7.2024 mit Präsentation am 1.8.2024 um 10:00\n",
    "\n",
    "**Finale Abgabe im 2. Prüfungszeitraum: 23.9.2024 mit Präsentation am 27.9.2024 um 9:00**"
   ]
  }
 ],
 "metadata": {
  "language_info": {
   "name": "python"
  }
 },
 "nbformat": 4,
 "nbformat_minor": 2
}
